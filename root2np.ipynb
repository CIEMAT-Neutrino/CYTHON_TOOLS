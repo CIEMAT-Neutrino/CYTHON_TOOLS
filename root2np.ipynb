{
 "cells": [
  {
   "cell_type": "code",
   "execution_count": 1,
   "metadata": {},
   "outputs": [],
   "source": [
    "from my_functions import root2npy"
   ]
  },
  {
   "cell_type": "code",
   "execution_count": 2,
   "metadata": {},
   "outputs": [
    {
     "name": "stdout",
     "output_type": "stream",
     "text": [
      "----------------------\n",
      "Dumping file: ../data/run10_ch0.root\n",
      "Saved data in: ../data/run10_ch0.npy\n",
      "----------------------\n",
      "Dumping file: ../data/run10_ch1.root\n",
      "Saved data in: ../data/run10_ch1.npy\n",
      "----------------------\n",
      "Dumping file: ../data/run10_ch4.root\n",
      "Saved data in: ../data/run10_ch4.npy\n",
      "----------------------\n",
      "Dumping file: ../data/run10_ch6.root\n",
      "Saved data in: ../data/run10_ch6.npy\n",
      "----------------------\n",
      "Dumping file: ../data/run22_ch0.root\n",
      "Saved data in: ../data/run22_ch0.npy\n",
      "----------------------\n",
      "Dumping file: ../data/run22_ch1.root\n",
      "Saved data in: ../data/run22_ch1.npy\n",
      "----------------------\n",
      "Dumping file: ../data/run22_ch4.root\n",
      "Saved data in: ../data/run22_ch4.npy\n",
      "----------------------\n",
      "Dumping file: ../data/run22_ch6.root\n",
      "Saved data in: ../data/run22_ch6.npy\n",
      "----------------------\n",
      "Dumping file: ../data/run26_ch0.root\n",
      "Saved data in: ../data/run26_ch0.npy\n",
      "----------------------\n",
      "Dumping file: ../data/run26_ch1.root\n",
      "Saved data in: ../data/run26_ch1.npy\n",
      "----------------------\n",
      "Dumping file: ../data/run26_ch4.root\n",
      "Saved data in: ../data/run26_ch4.npy\n",
      "----------------------\n",
      "Dumping file: ../data/run26_ch6.root\n",
      "Saved data in: ../data/run26_ch6.npy\n"
     ]
    }
   ],
   "source": [
    "RUNS=[\n",
    "    # \"02\",\n",
    "    \"10\",\n",
    "    \"22\",\n",
    "    \"26\"\n",
    "    ]\n",
    "\n",
    "RUNS_calib=[\"02\"]\n",
    "\n",
    "CH=[0,1,4,6]\n",
    "CH_calib=[0,1,6] #4 is the PMT\n",
    "\n",
    "for run in RUNS:\n",
    "    for ch in CH:\n",
    "        root2npy(\"../data/run\"+run+\"_ch\"+str(ch)+\".root\",\"../data/run\"+run+\"_ch\"+str(ch)+\".npy\")"
   ]
  }
 ],
 "metadata": {
  "kernelspec": {
   "display_name": "Python 3",
   "language": "python",
   "name": "python3"
  },
  "language_info": {
   "codemirror_mode": {
    "name": "ipython",
    "version": 3
   },
   "file_extension": ".py",
   "mimetype": "text/x-python",
   "name": "python",
   "nbconvert_exporter": "python",
   "pygments_lexer": "ipython3",
   "version": "3.10.6"
  },
  "orig_nbformat": 4,
  "vscode": {
   "interpreter": {
    "hash": "916dbcbb3f70747c44a77c7bcd40155683ae19c65e1c03b4aa3499c5328201f1"
   }
  }
 },
 "nbformat": 4,
 "nbformat_minor": 2
}

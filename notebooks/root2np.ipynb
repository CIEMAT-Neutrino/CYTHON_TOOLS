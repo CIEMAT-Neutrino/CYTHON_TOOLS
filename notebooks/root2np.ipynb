{
 "cells": [
  {
   "cell_type": "code",
   "execution_count": 1,
   "metadata": {},
   "outputs": [],
   "source": [
    "import sys\n",
    "sys.path.insert(0, '../')\n",
    "from lib.io_functions import root2npy"
   ]
  },
  {
   "cell_type": "code",
   "execution_count": 2,
   "metadata": {},
   "outputs": [
    {
     "ename": "AttributeError",
     "evalue": "'str' object has no attribute 'astype'",
     "output_type": "error",
     "traceback": [
      "\u001b[0;31m---------------------------------------------------------------------------\u001b[0m",
      "\u001b[0;31mAttributeError\u001b[0m                            Traceback (most recent call last)",
      "Cell \u001b[0;32mIn [2], line 6\u001b[0m\n\u001b[1;32m      4\u001b[0m \u001b[39mfor\u001b[39;00m run \u001b[39min\u001b[39;00m runs:\n\u001b[1;32m      5\u001b[0m     \u001b[39mfor\u001b[39;00m ch \u001b[39min\u001b[39;00m channels:\n\u001b[0;32m----> 6\u001b[0m         root2npy(\u001b[39m\"\u001b[39;49m\u001b[39m../data/raw/run\u001b[39;49m\u001b[39m\"\u001b[39;49m\u001b[39m+\u001b[39;49m\u001b[39mstr\u001b[39;49m(run)\u001b[39m.\u001b[39;49mzfill(\u001b[39m2\u001b[39;49m)\u001b[39m+\u001b[39;49m\u001b[39m\"\u001b[39;49m\u001b[39m_ch\u001b[39;49m\u001b[39m\"\u001b[39;49m\u001b[39m+\u001b[39;49m\u001b[39mstr\u001b[39;49m(ch)\u001b[39m+\u001b[39;49m\u001b[39m\"\u001b[39;49m\u001b[39m.root\u001b[39;49m\u001b[39m\"\u001b[39;49m,\u001b[39m\"\u001b[39;49m\u001b[39m../data/raw/run\u001b[39;49m\u001b[39m\"\u001b[39;49m\u001b[39m+\u001b[39;49m\u001b[39mstr\u001b[39;49m(run)\u001b[39m.\u001b[39;49mzfill(\u001b[39m2\u001b[39;49m)\u001b[39m+\u001b[39;49m\u001b[39m\"\u001b[39;49m\u001b[39m_ch\u001b[39;49m\u001b[39m\"\u001b[39;49m\u001b[39m+\u001b[39;49m\u001b[39mstr\u001b[39;49m(ch)\u001b[39m+\u001b[39;49m\u001b[39m\"\u001b[39;49m\u001b[39m.npy\u001b[39;49m\u001b[39m\"\u001b[39;49m)\n",
      "File \u001b[0;32m~/Code/CYTHON_TOOLS/notebooks/../lib/io_functions.py:16\u001b[0m, in \u001b[0;36mroot2npy\u001b[0;34m(runs, channels, in_path, out_path, info)\u001b[0m\n\u001b[1;32m     15\u001b[0m \u001b[39mdef\u001b[39;00m \u001b[39mroot2npy\u001b[39m (runs,channels,in_path\u001b[39m=\u001b[39m\u001b[39m\"\u001b[39m\u001b[39m../data/raw/\u001b[39m\u001b[39m\"\u001b[39m,out_path\u001b[39m=\u001b[39m\u001b[39m\"\u001b[39m\u001b[39m../data/raw/\u001b[39m\u001b[39m\"\u001b[39m,info\u001b[39m=\u001b[39m{}):\n\u001b[0;32m---> 16\u001b[0m     \u001b[39mfor\u001b[39;00m run, ch \u001b[39min\u001b[39;00m product (runs\u001b[39m.\u001b[39;49mastype(\u001b[39mint\u001b[39m),channels\u001b[39m.\u001b[39mastype(\u001b[39mint\u001b[39m)):\n\u001b[1;32m     17\u001b[0m         i \u001b[39m=\u001b[39m np\u001b[39m.\u001b[39mwhere(runs\u001b[39m==\u001b[39mrun)[\u001b[39m0\u001b[39m][\u001b[39m0\u001b[39m]\n\u001b[1;32m     18\u001b[0m         j \u001b[39m=\u001b[39m np\u001b[39m.\u001b[39mwhere(channels\u001b[39m==\u001b[39mch)[\u001b[39m0\u001b[39m][\u001b[39m0\u001b[39m]\n",
      "\u001b[0;31mAttributeError\u001b[0m: 'str' object has no attribute 'astype'"
     ]
    }
   ],
   "source": [
    "runs =     [10,22,26]\n",
    "channels = [0,1,4,6]\n",
    "\n",
    "for run in runs:\n",
    "    for ch in channels:\n",
    "        root2npy(\"../data/raw/run\"+str(run).zfill(2)+\"_ch\"+str(ch)+\".root\",\"../data/raw/run\"+str(run).zfill(2)+\"_ch\"+str(ch)+\".npy\")"
   ]
  }
 ],
 "metadata": {
  "kernelspec": {
   "display_name": "Python 3",
   "language": "python",
   "name": "python3"
  },
  "language_info": {
   "codemirror_mode": {
    "name": "ipython",
    "version": 3
   },
   "file_extension": ".py",
   "mimetype": "text/x-python",
   "name": "python",
   "nbconvert_exporter": "python",
   "pygments_lexer": "ipython3",
   "version": "3.10.6"
  },
  "orig_nbformat": 4,
  "vscode": {
   "interpreter": {
    "hash": "916dbcbb3f70747c44a77c7bcd40155683ae19c65e1c03b4aa3499c5328201f1"
   }
  }
 },
 "nbformat": 4,
 "nbformat_minor": 2
}

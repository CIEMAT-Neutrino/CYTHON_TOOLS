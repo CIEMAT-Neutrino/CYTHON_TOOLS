{
 "cells": [
  {
   "cell_type": "code",
   "execution_count": 24,
   "metadata": {},
   "outputs": [],
   "source": [
    "import sys\n",
    "sys.path.insert(0, '../')\n",
    "\n",
    "import numpy as np\n",
    "from itertools import product\n",
    "from lib.io_functions import read_input_file,root2npy,load_npy,save_proccesed_variables\n",
    "from lib.ana_functions import compute_peak_variables,compute_pedestal_variables\n",
    "from lib.cut_functions import *"
   ]
  },
  {
   "cell_type": "code",
   "execution_count": 25,
   "metadata": {},
   "outputs": [
    {
     "name": "stdout",
     "output_type": "stream",
     "text": [
      "dict_keys(['MONTH', 'SAMPLING', 'OV_LABEL', 'MUONS_RUNS', 'LIGHT_RUNS', 'ALPHA_RUNS', 'CALIB_RUNS', 'CHAN_LABEL', 'CHAN_STNRD', 'CHAN_CALIB', 'CHAN_POLAR'])\n"
     ]
    }
   ],
   "source": [
    "input_file = input(\"Please select input File: \")\n",
    "info = read_input_file(input_file)\n",
    "\n",
    "runs = []; channels = []\n",
    "runs = np.append(runs,info[\"CALIB_RUNS\"])\n",
    "runs = np.append(runs,info[\"LIGHT_RUNS\"])\n",
    "runs = np.append(runs,info[\"ALPHA_RUNS\"])\n",
    "\n",
    "channels = np.append(channels,info[\"CHAN_STNRD\"])\n",
    "\n",
    "#root2npy(runs.astype(int),channels.astype(int),info=info,debug=True)"
   ]
  },
  {
   "cell_type": "code",
   "execution_count": 26,
   "metadata": {},
   "outputs": [
    {
     "name": "stdout",
     "output_type": "stream",
     "text": [
      "\n",
      "Loaded Analysis_runs with keys:\n",
      "dict_keys(['NRun', 'NChannel', 2])\n",
      "\n",
      "Loaded Analysis_runs with keys:\n",
      "dict_keys(['NRun', 'NChannel', 2])\n",
      "\n",
      "Loaded Analysis_runs with keys:\n",
      "dict_keys(['NRun', 'NChannel', 2, 10])\n",
      "\n",
      "Loaded Analysis_runs with keys:\n",
      "dict_keys(['NRun', 'NChannel', 2, 10])\n",
      "\n",
      "Loaded Analysis_runs with keys:\n",
      "dict_keys(['NRun', 'NChannel', 2, 10, 26])\n",
      "\n",
      "Loaded Analysis_runs with keys:\n",
      "dict_keys(['NRun', 'NChannel', 2, 10, 26])\n"
     ]
    },
    {
     "data": {
      "text/plain": [
       "dict_keys(['NRun', 'NChannel', 2, 10, 26])"
      ]
     },
     "execution_count": 26,
     "metadata": {},
     "output_type": "execute_result"
    }
   ],
   "source": [
    "# print(runs.astype(int))\n",
    "my_runs = load_npy(runs.astype(int),channels.astype(int),\"Analysis_\",\"../data/ana/\",debug=True)\n",
    "my_runs.keys()"
   ]
  },
  {
   "cell_type": "code",
   "execution_count": 27,
   "metadata": {},
   "outputs": [
    {
     "data": {
      "text/plain": [
       "{'Sampling': 4e-09,\n",
       " 'EventNumber': array([ 3069,  3070,  3071, ..., 33756, 33757, 33758], dtype=int32),\n",
       " 'TriggerTimeStamp': array([ 383740685,  383865685,  383990685, ..., 5410964845, 5411089845,\n",
       "        5411214843], dtype=uint64),\n",
       " 'PCTimeStamp': array([ 3,  3,  3, ..., 43, 43, 43], dtype=uint64),\n",
       " 'NBinsWvf': 5000,\n",
       " 'Label': 'SiPM0',\n",
       " 'AnaADC': array([[ -0.74904943,  -4.74904943,  -0.74904943, ...,   1.25095057,\n",
       "           0.25095057,  -1.74904943],\n",
       "        [  3.13688213,  -1.86311787,   3.13688213, ...,  -5.86311787,\n",
       "         -11.86311787,  -4.86311787],\n",
       "        [  2.09695817,  -0.90304183,   0.09695817, ...,   3.09695817,\n",
       "          -2.90304183,  -0.90304183],\n",
       "        ...,\n",
       "        [ -2.26996198,  -2.26996198,  -2.26996198, ...,   0.73003802,\n",
       "          -4.26996198,   0.73003802],\n",
       "        [ -5.74334601,  -1.74334601,   1.25665399, ...,   5.25665399,\n",
       "          -1.74334601,  -0.74334601],\n",
       "        [ -3.5608365 ,  -0.5608365 ,  -0.5608365 , ...,   3.4391635 ,\n",
       "           2.4391635 ,  -0.5608365 ]]),\n",
       " 'PChannel': 1,\n",
       " 'PeakAmp': array([12.25095057, 21.13688213, 28.09695817, ..., 12.73003802,\n",
       "        26.25665399, 12.4391635 ]),\n",
       " 'PeakTime': array([1137,  576,  575, ..., 1313,  574,  479]),\n",
       " 'PedSTD': array([3.2950229 , 3.3768797 , 3.47452848, ..., 3.47168487, 3.44879758,\n",
       "        3.60490615]),\n",
       " 'PedMean': array([-2.48987143e-13,  5.25639523e-13,  6.91630952e-14, ...,\n",
       "        -2.28238214e-13,  7.60794047e-14, -4.35727500e-13]),\n",
       " 'PedMax': array([10.25095057, 11.13688213, 10.09695817, ..., 11.73003802,\n",
       "        11.25665399, 12.4391635 ]),\n",
       " 'PedMin': array([ -8.74904943,  -8.86311787, -11.90304183, ..., -10.26996198,\n",
       "         -9.74334601, -12.5608365 ]),\n",
       " 'PedLim': 526,\n",
       " 'AveWvf': [array([-0.06681478,  0.08320151, -0.07248438, ...,  0.1083237 ,\n",
       "         -0.02276134,  0.08372285])],\n",
       " 'AveWvfPeak': [array([-0.02375137,  0.00546902,  0.05087791, ..., -0.01083514,\n",
       "         -0.0556206 ,  0.        ])],\n",
       " 'AveWvfThreshold': [array([ 4.03652618e-02, -2.19025778e-02,  3.55428441e-02, ...,\n",
       "          2.30187314e-03,  2.09998922e-05,  0.00000000e+00])],\n",
       " 'ChargeAveRange': array([0.12530448, 1.16298568, 0.99590067, ..., 0.27485593, 0.98455323,\n",
       "        0.10551331])}"
      ]
     },
     "execution_count": 27,
     "metadata": {},
     "output_type": "execute_result"
    }
   ],
   "source": [
    "my_runs[2][0]"
   ]
  },
  {
   "cell_type": "code",
   "execution_count": 34,
   "metadata": {},
   "outputs": [],
   "source": [
    "generate_cut_array(my_runs)"
   ]
  },
  {
   "cell_type": "code",
   "execution_count": 29,
   "metadata": {},
   "outputs": [
    {
     "data": {
      "text/plain": [
       "dict_keys(['Sampling', 'EventNumber', 'TriggerTimeStamp', 'PCTimeStamp', 'NBinsWvf', 'Label', 'AnaADC', 'PChannel', 'PeakAmp', 'PeakTime', 'PedSTD', 'PedMean', 'PedMax', 'PedMin', 'PedLim', 'AveWvf', 'AveWvfPeak', 'AveWvfThreshold', 'ChargeAveRange', 'MyCuts'])"
      ]
     },
     "execution_count": 29,
     "metadata": {},
     "output_type": "execute_result"
    }
   ],
   "source": [
    "my_runs[2][0].keys()"
   ]
  },
  {
   "cell_type": "code",
   "execution_count": 42,
   "metadata": {},
   "outputs": [
    {
     "data": {
      "text/plain": [
       "{'Sampling': 4e-09,\n",
       " 'EventNumber': array([ 3069,  3070,  3071, ..., 33756, 33757, 33758], dtype=int32),\n",
       " 'TriggerTimeStamp': array([ 383740685,  383865685,  383990685, ..., 5410964845, 5411089845,\n",
       "        5411214843], dtype=uint64),\n",
       " 'PCTimeStamp': array([ 3,  3,  3, ..., 43, 43, 43], dtype=uint64),\n",
       " 'NBinsWvf': 5000,\n",
       " 'Label': 'SiPM0',\n",
       " 'AnaADC': array([[ -0.74904943,  -4.74904943,  -0.74904943, ...,   1.25095057,\n",
       "           0.25095057,  -1.74904943],\n",
       "        [  3.13688213,  -1.86311787,   3.13688213, ...,  -5.86311787,\n",
       "         -11.86311787,  -4.86311787],\n",
       "        [  2.09695817,  -0.90304183,   0.09695817, ...,   3.09695817,\n",
       "          -2.90304183,  -0.90304183],\n",
       "        ...,\n",
       "        [ -2.26996198,  -2.26996198,  -2.26996198, ...,   0.73003802,\n",
       "          -4.26996198,   0.73003802],\n",
       "        [ -5.74334601,  -1.74334601,   1.25665399, ...,   5.25665399,\n",
       "          -1.74334601,  -0.74334601],\n",
       "        [ -3.5608365 ,  -0.5608365 ,  -0.5608365 , ...,   3.4391635 ,\n",
       "           2.4391635 ,  -0.5608365 ]]),\n",
       " 'PChannel': 1,\n",
       " 'PeakAmp': array([12.25095057, 21.13688213, 28.09695817, ..., 12.73003802,\n",
       "        26.25665399, 12.4391635 ]),\n",
       " 'PeakTime': array([1137,  576,  575, ..., 1313,  574,  479]),\n",
       " 'PedSTD': array([3.2950229 , 3.3768797 , 3.47452848, ..., 3.47168487, 3.44879758,\n",
       "        3.60490615]),\n",
       " 'PedMean': array([-2.48987143e-13,  5.25639523e-13,  6.91630952e-14, ...,\n",
       "        -2.28238214e-13,  7.60794047e-14, -4.35727500e-13]),\n",
       " 'PedMax': array([10.25095057, 11.13688213, 10.09695817, ..., 11.73003802,\n",
       "        11.25665399, 12.4391635 ]),\n",
       " 'PedMin': array([ -8.74904943,  -8.86311787, -11.90304183, ..., -10.26996198,\n",
       "         -9.74334601, -12.5608365 ]),\n",
       " 'PedLim': 526,\n",
       " 'AveWvf': [array([-0.06681478,  0.08320151, -0.07248438, ...,  0.1083237 ,\n",
       "         -0.02276134,  0.08372285])],\n",
       " 'AveWvfPeak': [array([-0.02375137,  0.00546902,  0.05087791, ..., -0.01083514,\n",
       "         -0.0556206 ,  0.        ])],\n",
       " 'AveWvfThreshold': [array([ 4.03652618e-02, -2.19025778e-02,  3.55428441e-02, ...,\n",
       "          2.30187314e-03,  2.09998922e-05,  0.00000000e+00])],\n",
       " 'ChargeAveRange': array([0.12530448, 1.16298568, 0.99590067, ..., 0.27485593, 0.98455323,\n",
       "        0.10551331]),\n",
       " 'MyCuts': array([False,  True,  True, ..., False, False, False])}"
      ]
     },
     "execution_count": 42,
     "metadata": {},
     "output_type": "execute_result"
    }
   ],
   "source": [
    "my_runs[2][0]"
   ]
  },
  {
   "cell_type": "code",
   "execution_count": 31,
   "metadata": {},
   "outputs": [],
   "source": [
    "cut_min_max_sim(my_runs, [\"PeakAmp\"], {\"PeakAmp\": [-99,25]})"
   ]
  },
  {
   "cell_type": "code",
   "execution_count": 41,
   "metadata": {},
   "outputs": [],
   "source": [
    "cut_min_max(my_runs, [\"PeakAmp\", \"PeakTime\"], {\"PeakAmp\": [12,29], \"PeakTime\": [575,577]})"
   ]
  },
  {
   "cell_type": "code",
   "execution_count": 40,
   "metadata": {},
   "outputs": [],
   "source": [
    "generate_cut_array(my_runs)"
   ]
  },
  {
   "cell_type": "code",
   "execution_count": 9,
   "metadata": {},
   "outputs": [
    {
     "name": "stdout",
     "output_type": "stream",
     "text": [
      "Esta es la 0 interacion del evento nº 0\n",
      "True\n",
      "Esta es la 0 interacion del evento nº 1\n",
      "True\n",
      "False\n",
      "Esta es la 1 interacion del evento nº 2\n",
      "True\n",
      "False\n",
      "False\n"
     ]
    }
   ],
   "source": [
    "var = [\"PeakTime\",\"PeakAmp\"]\n",
    "values = {\"PeakTime\" : [2,2,4,5], \"PeakAmp\": [5,5,5,7]}\n",
    "limits = {\"PeakTime\": [1,3], \"PeakAmp\": [1,6]}\n",
    "\n",
    "for i in np.arange(len(values[\"PeakTime\"])):\n",
    "    for j in np.arange(len(var)):\n",
    "        if limits[var[j]][0] <= values[var[j]][i] <= limits[var[j]][1]:\n",
    "            print(\"Esta es la\", j, \"interacion del evento nº\", i)\n",
    "            print(\"True\")\n",
    "            break\n",
    "        else: print(\"False\")\n"
   ]
  },
  {
   "cell_type": "code",
   "execution_count": 16,
   "metadata": {},
   "outputs": [
    {
     "data": {
      "text/plain": [
       "'PeakTime'"
      ]
     },
     "execution_count": 16,
     "metadata": {},
     "output_type": "execute_result"
    }
   ],
   "source": [
    "var[0]"
   ]
  },
  {
   "cell_type": "code",
   "execution_count": null,
   "metadata": {},
   "outputs": [],
   "source": []
  }
 ],
 "metadata": {
  "kernelspec": {
   "display_name": "Python 3",
   "language": "python",
   "name": "python3"
  },
  "language_info": {
   "codemirror_mode": {
    "name": "ipython",
    "version": 3
   },
   "file_extension": ".py",
   "mimetype": "text/x-python",
   "name": "python",
   "nbconvert_exporter": "python",
   "pygments_lexer": "ipython3",
   "version": "3.10.6"
  },
  "orig_nbformat": 4,
  "vscode": {
   "interpreter": {
    "hash": "916dbcbb3f70747c44a77c7bcd40155683ae19c65e1c03b4aa3499c5328201f1"
   }
  }
 },
 "nbformat": 4,
 "nbformat_minor": 2
}

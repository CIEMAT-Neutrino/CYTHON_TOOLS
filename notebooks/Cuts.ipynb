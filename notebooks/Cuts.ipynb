{
 "cells": [
  {
   "cell_type": "code",
   "execution_count": 1,
   "metadata": {},
   "outputs": [],
   "source": [
    "import sys\n",
    "sys.path.insert(0, '../')\n",
    "\n",
    "import numpy as np\n",
    "from itertools import product\n",
    "from lib.io_functions import *\n",
    "from lib.ana_functions import *\n",
    "from lib.wvf_functions import *\n",
    "from lib.cut_functions import *"
   ]
  },
  {
   "cell_type": "code",
   "execution_count": 2,
   "metadata": {},
   "outputs": [
    {
     "name": "stdout",
     "output_type": "stream",
     "text": [
      "dict_keys(['MONTH', 'SAMPLING', 'OV_LABEL', 'MUONS_RUNS', 'LIGHT_RUNS', 'ALPHA_RUNS', 'CALIB_RUNS', 'CHAN_LABEL', 'CHAN_STNRD', 'CHAN_CALIB', 'CHAN_POLAR'])\n"
     ]
    }
   ],
   "source": [
    "input_file = input(\"Please select input File: \")\n",
    "info = read_input_file(input_file)\n",
    "\n",
    "runs = []; channels = []\n",
    "runs = np.append(runs,info[\"CALIB_RUNS\"])\n",
    "runs = np.append(runs,info[\"LIGHT_RUNS\"])\n",
    "runs = np.append(runs,info[\"ALPHA_RUNS\"])\n",
    "\n",
    "channels = np.append(channels,info[\"CHAN_STNRD\"])\n",
    "\n",
    "root2npy(runs.astype(int),channels.astype(int),info=info)"
   ]
  },
  {
   "cell_type": "code",
   "execution_count": 3,
   "metadata": {},
   "outputs": [
    {
     "name": "stdout",
     "output_type": "stream",
     "text": [
      "\n",
      "Loaded Analysis_runs with keys:\n",
      "dict_keys(['NRun', 'NChannel', 2])\n",
      "\n",
      "Loaded Analysis_runs with keys:\n",
      "dict_keys(['NRun', 'NChannel', 2])\n",
      "\n",
      "Loaded Analysis_runs with keys:\n",
      "dict_keys(['NRun', 'NChannel', 2, 10])\n",
      "\n",
      "Loaded Analysis_runs with keys:\n",
      "dict_keys(['NRun', 'NChannel', 2, 10])\n",
      "\n",
      "Loaded Analysis_runs with keys:\n",
      "dict_keys(['NRun', 'NChannel', 2, 10, 26])\n",
      "\n",
      "Loaded Analysis_runs with keys:\n",
      "dict_keys(['NRun', 'NChannel', 2, 10, 26])\n"
     ]
    },
    {
     "data": {
      "text/plain": [
       "dict_keys(['NRun', 'NChannel', 2, 10, 26])"
      ]
     },
     "execution_count": 3,
     "metadata": {},
     "output_type": "execute_result"
    }
   ],
   "source": [
    "# print(runs.astype(int))\n",
    "my_runs = load_npy(runs.astype(int),channels.astype(int),\"Analysis_\",\"../data/ana/\",debug=True)\n",
    "my_runs.keys()"


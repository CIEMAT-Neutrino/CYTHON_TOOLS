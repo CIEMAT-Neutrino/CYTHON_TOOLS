{
 "cells": [
  {
   "cell_type": "code",
   "execution_count": 1,
   "metadata": {},
   "outputs": [],
   "source": [
    "import sys\n",
    "sys.path.insert(0, '../')\n",
    "\n",
    "import numpy as np\n",
    "from itertools import product\n",
    "from lib.io_functions import read_input_file,root2npy,load_npy,save_proccesed_variables\n",
    "from lib.ana_functions import compute_peak_variables,compute_pedestal_variables\n",
    "from lib.cut_functions import *"
   ]
  },
  {
   "cell_type": "code",
   "execution_count": 2,
   "metadata": {},
   "outputs": [
    {
     "name": "stdout",
     "output_type": "stream",
     "text": [
      "dict_keys(['MONTH', 'SAMPLING', 'OV_LABEL', 'MUONS_RUNS', 'LIGHT_RUNS', 'ALPHA_RUNS', 'CALIB_RUNS', 'CHAN_LABEL', 'CHAN_STNRD', 'CHAN_CALIB', 'CHAN_POLAR'])\n",
      "----------------------\n",
      "Dumping file: ../data/raw/run02_ch0.root\n",
      "dumping brach: ADC\n",
      "dumping brach: Sampling\n",
      "dumping brach: EventNumber\n",
      "dumping brach: TriggerTimeStamp\n",
      "dumping brach: PCTimeStamp\n",
      "dict_keys(['ADC', 'Sampling', 'EventNumber', 'TriggerTimeStamp', 'PCTimeStamp', 'NBinsWvf', 'Label', 'PChannel'])\n",
      "Saved data in: ../data/raw/run02_ch0.npy\n",
      "----------------------\n",
      "\n",
      "----------------------\n",
      "Dumping file: ../data/raw/run02_ch6.root\n",
      "dumping brach: ADC\n",
      "dumping brach: Sampling\n",
      "dumping brach: EventNumber\n",
      "dumping brach: TriggerTimeStamp\n",
      "dumping brach: PCTimeStamp\n",
      "dict_keys(['ADC', 'Sampling', 'EventNumber', 'TriggerTimeStamp', 'PCTimeStamp', 'NBinsWvf', 'Label', 'PChannel'])\n",
      "Saved data in: ../data/raw/run02_ch6.npy\n",
      "----------------------\n",
      "\n",
      "----------------------\n",
      "Dumping file: ../data/raw/run10_ch0.root\n",
      "dumping brach: ADC\n",
      "dumping brach: Sampling\n",
      "dumping brach: EventNumber\n",
      "dumping brach: TriggerTimeStamp\n",
      "dumping brach: PCTimeStamp\n",
      "dict_keys(['ADC', 'Sampling', 'EventNumber', 'TriggerTimeStamp', 'PCTimeStamp', 'NBinsWvf', 'Label', 'PChannel'])\n",
      "Saved data in: ../data/raw/run10_ch0.npy\n",
      "----------------------\n",
      "\n",
      "----------------------\n",
      "Dumping file: ../data/raw/run10_ch6.root\n",
      "dumping brach: ADC\n",
      "dumping brach: Sampling\n",
      "dumping brach: EventNumber\n",
      "dumping brach: TriggerTimeStamp\n",
      "dumping brach: PCTimeStamp\n",
      "dict_keys(['ADC', 'Sampling', 'EventNumber', 'TriggerTimeStamp', 'PCTimeStamp', 'NBinsWvf', 'Label', 'PChannel'])\n",
      "Saved data in: ../data/raw/run10_ch6.npy\n",
      "----------------------\n",
      "\n",
      "----------------------\n",
      "Dumping file: ../data/raw/run26_ch0.root\n",
      "dumping brach: ADC\n",
      "dumping brach: Sampling\n",
      "dumping brach: EventNumber\n",
      "dumping brach: TriggerTimeStamp\n",
      "dumping brach: PCTimeStamp\n",
      "dict_keys(['ADC', 'Sampling', 'EventNumber', 'TriggerTimeStamp', 'PCTimeStamp', 'NBinsWvf', 'Label', 'PChannel'])\n",
      "Saved data in: ../data/raw/run26_ch0.npy\n",
      "----------------------\n",
      "\n",
      "----------------------\n",
      "Dumping file: ../data/raw/run26_ch6.root\n",
      "dumping brach: ADC\n",
      "dumping brach: Sampling\n",
      "dumping brach: EventNumber\n",
      "dumping brach: TriggerTimeStamp\n",
      "dumping brach: PCTimeStamp\n",
      "dict_keys(['ADC', 'Sampling', 'EventNumber', 'TriggerTimeStamp', 'PCTimeStamp', 'NBinsWvf', 'Label', 'PChannel'])\n",
      "Saved data in: ../data/raw/run26_ch6.npy\n",
      "----------------------\n",
      "\n"
     ]
    }
   ],
   "source": [
    "input_file = input(\"Please select input File: \")\n",
    "info = read_input_file(input_file)\n",
    "\n",
    "runs = []; channels = []\n",
    "runs = np.append(runs,info[\"CALIB_RUNS\"])\n",
    "runs = np.append(runs,info[\"LIGHT_RUNS\"])\n",
    "runs = np.append(runs,info[\"ALPHA_RUNS\"])\n",
    "\n",
    "channels = np.append(channels,info[\"CHAN_STNRD\"])\n",
    "\n",
    "root2npy(runs.astype(int),channels.astype(int),info=info,debug=True)"
   ]
  },
  {
   "cell_type": "code",
   "execution_count": 3,
   "metadata": {},
   "outputs": [
    {
     "data": {
      "text/plain": [
       "dict_keys(['NRun', 'NChannel'])"
      ]
     },
     "execution_count": 3,
     "metadata": {},
     "output_type": "execute_result"
    }
   ],
   "source": [
    "# print(runs.astype(int))\n",
    "my_runs = load_npy(runs.astype(int),channels.astype(int),\"\",\"../data/raw/\",debug=True)\n",
    "my_runs.keys()"
   ]
  },
  {
   "cell_type": "code",
   "execution_count": 4,
   "metadata": {},
   "outputs": [
    {
     "name": "stdout",
     "output_type": "stream",
     "text": [
      "[ 2 10 26]\n"
     ]
    }
   ],
   "source": [
    "print(my_runs[\"NRun\"])"
   ]
  }
 ],
 "metadata": {
  "kernelspec": {
   "display_name": "Python 3",
   "language": "python",
   "name": "python3"
  },
  "language_info": {
   "codemirror_mode": {
    "name": "ipython",
    "version": 3
   },
   "file_extension": ".py",
   "mimetype": "text/x-python",
   "name": "python",
   "nbconvert_exporter": "python",
   "pygments_lexer": "ipython3",
   "version": "3.10.6"
  },
  "orig_nbformat": 4,
  "vscode": {
   "interpreter": {
    "hash": "916dbcbb3f70747c44a77c7bcd40155683ae19c65e1c03b4aa3499c5328201f1"
   }
  }
 },
 "nbformat": 4,
 "nbformat_minor": 2
}

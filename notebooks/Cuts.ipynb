{
 "cells": [
  {
   "cell_type": "code",
   "execution_count": 1,
   "metadata": {},
   "outputs": [
    {
     "name": "stdout",
     "output_type": "stream",
     "text": [
      "dict_keys(['MONTH', 'SAMPLING', 'OV_LABEL', 'MUONS_RUNS', 'LIGHT_RUNS', 'ALPHA_RUNS', 'CALIB_RUNS', 'CHAN_LABEL', 'CHAN_STNRD', 'CHAN_CALIB', 'CHAN_POLAR'])\n",
      "\n",
      "Loaded Analysis_runs with keys:\n",
      "dict_keys(['NRun', 'NChannel', 2])\n"
     ]
    }
   ],
   "source": [
    "import sys\n",
    "sys.path.insert(0, '../')\n",
    "import numpy as np\n",
    "from itertools import product\n",
    "from lib.io_functions import read_input_file,root2npy,load_npy,save_proccesed_variables\n",
    "from lib.ana_functions import compute_peak_variables,compute_pedestal_variables\n",
    "from lib.cut_functions import *\n",
    "# input_file = input(\"Please select input File: \")\n",
    "# info = read_input_file(input_file)\n",
    "info = read_input_file(\"TEST\")\n",
    "\n",
    "runs = []; channels = []\n",
    "runs = np.append(runs,info[\"CALIB_RUNS\"])\n",
    "# runs = np.append(runs,info[\"LIGHT_RUNS\"])\n",
    "# runs = np.append(runs,info[\"ALPHA_RUNS\"])\n",
    "\n",
    "channels = np.append(channels,info[\"CHAN_STNRD\"])\n",
    "\n",
    "my_runs = load_npy(runs.astype(int),channels.astype(int),\"Analysis_\",\"../data/ana/\",debug=True)\n",
    "# my_runs.keys()"
   ]
  },
  {
   "cell_type": "code",
   "execution_count": 3,
   "metadata": {},
   "outputs": [
    {
     "name": "stderr",
     "output_type": "stream",
     "text": [
      "qt.qpa.wayland: Wayland does not support QWindow::requestActivate()\n"
     ]
    },
    {
     "name": "stdout",
     "output_type": "stream",
     "text": [
      "15\n",
      "Nº evt totales 30690\n",
      "Nº cortados  30131\n"
     ]
    },
    {
     "name": "stderr",
     "output_type": "stream",
     "text": [
      "qt.qpa.wayland: Wayland does not support QWindow::requestActivate()\n"
     ]
    }
   ],
   "source": [
    "# %matplotlib ipympl\n",
    "%matplotlib qt\n",
    "generate_cut_array(my_runs)\n",
    "\n",
    "cut_lin_rel(my_runs, [\"PeakAmp\", \"ChargeAveRange\"])"
   ]
  },
  {
   "cell_type": "code",
   "execution_count": null,
   "metadata": {},
   "outputs": [],
   "source": []
  }
 ],
 "metadata": {
  "kernelspec": {
   "display_name": "Python 3",
   "language": "python",
   "name": "python3"
  },
  "language_info": {
   "codemirror_mode": {
    "name": "ipython",
    "version": 3
   },
   "file_extension": ".py",
   "mimetype": "text/x-python",
   "name": "python",
   "nbconvert_exporter": "python",
   "pygments_lexer": "ipython3",
   "version": "3.10.6 (main, Nov 14 2022, 16:10:14) [GCC 11.3.0]"
  },
  "orig_nbformat": 4,
  "vscode": {
   "interpreter": {
    "hash": "916dbcbb3f70747c44a77c7bcd40155683ae19c65e1c03b4aa3499c5328201f1"
   }
  }
 },
 "nbformat": 4,
 "nbformat_minor": 2
}

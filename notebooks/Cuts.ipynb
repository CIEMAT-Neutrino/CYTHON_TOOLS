{
 "cells": [
  {
   "cell_type": "code",
   "execution_count": 1,
   "metadata": {},
   "outputs": [],
   "source": [
    "import sys\n",
    "sys.path.insert(0, '../')\n",
    "\n",
    "import numpy as np\n",
    "from itertools import product\n",
    "from lib.io_functions import read_input_file,root2npy,load_npy,save_proccesed_variables\n",
    "from lib.ana_functions import compute_peak_variables,compute_pedestal_variables\n",
    "from lib.cut_functions import *"
   ]
  },
  {
   "cell_type": "code",
   "execution_count": 2,
   "metadata": {},
   "outputs": [
    {
     "name": "stdout",
     "output_type": "stream",
     "text": [
      "dict_keys(['MONTH', 'SAMPLING', 'OV_LABEL', 'MUONS_RUNS', 'LIGHT_RUNS', 'ALPHA_RUNS', 'CALIB_RUNS', 'CHAN_LABEL', 'CHAN_STNRD', 'CHAN_CALIB', 'CHAN_POLAR'])\n",
      "----------------------\n",
      "Dumping file: ../data/raw/run02_ch0.root\n",
      "dumping brach: ADC\n",
      "dumping brach: Sampling\n",
      "dumping brach: EventNumber\n",
      "dumping brach: TriggerTimeStamp\n",
      "dumping brach: PCTimeStamp\n",
      "dict_keys(['ADC', 'Sampling', 'EventNumber', 'TriggerTimeStamp', 'PCTimeStamp', 'NBinsWvf', 'Label', 'PChannel'])\n",
      "Saved data in: ../data/raw/run02_ch0.npy\n",
      "----------------------\n",
      "\n",
      "----------------------\n",
      "Dumping file: ../data/raw/run02_ch6.root\n",
      "dumping brach: ADC\n",
      "dumping brach: Sampling\n",
      "dumping brach: EventNumber\n",
      "dumping brach: TriggerTimeStamp\n",
      "dumping brach: PCTimeStamp\n",
      "dict_keys(['ADC', 'Sampling', 'EventNumber', 'TriggerTimeStamp', 'PCTimeStamp', 'NBinsWvf', 'Label', 'PChannel'])\n",
      "Saved data in: ../data/raw/run02_ch6.npy\n",
      "----------------------\n",
      "\n",
      "----------------------\n",
      "Dumping file: ../data/raw/run10_ch0.root\n",
      "dumping brach: ADC\n",
      "dumping brach: Sampling\n",
      "dumping brach: EventNumber\n",
      "dumping brach: TriggerTimeStamp\n",
      "dumping brach: PCTimeStamp\n",
      "dict_keys(['ADC', 'Sampling', 'EventNumber', 'TriggerTimeStamp', 'PCTimeStamp', 'NBinsWvf', 'Label', 'PChannel'])\n",
      "Saved data in: ../data/raw/run10_ch0.npy\n",
      "----------------------\n",
      "\n",
      "----------------------\n",
      "Dumping file: ../data/raw/run10_ch6.root\n",
      "dumping brach: ADC\n",
      "dumping brach: Sampling\n",
      "dumping brach: EventNumber\n",
      "dumping brach: TriggerTimeStamp\n",
      "dumping brach: PCTimeStamp\n",
      "dict_keys(['ADC', 'Sampling', 'EventNumber', 'TriggerTimeStamp', 'PCTimeStamp', 'NBinsWvf', 'Label', 'PChannel'])\n",
      "Saved data in: ../data/raw/run10_ch6.npy\n",
      "----------------------\n",
      "\n",
      "----------------------\n",
      "Dumping file: ../data/raw/run26_ch0.root\n",
      "dumping brach: ADC\n",
      "dumping brach: Sampling\n",
      "dumping brach: EventNumber\n",
      "dumping brach: TriggerTimeStamp\n",
      "dumping brach: PCTimeStamp\n",
      "dict_keys(['ADC', 'Sampling', 'EventNumber', 'TriggerTimeStamp', 'PCTimeStamp', 'NBinsWvf', 'Label', 'PChannel'])\n",
      "Saved data in: ../data/raw/run26_ch0.npy\n",
      "----------------------\n",
      "\n",
      "----------------------\n",
      "Dumping file: ../data/raw/run26_ch6.root\n",
      "dumping brach: ADC\n",
      "dumping brach: Sampling\n",
      "dumping brach: EventNumber\n",
      "dumping brach: TriggerTimeStamp\n",
      "dumping brach: PCTimeStamp\n",
      "dict_keys(['ADC', 'Sampling', 'EventNumber', 'TriggerTimeStamp', 'PCTimeStamp', 'NBinsWvf', 'Label', 'PChannel'])\n",
      "Saved data in: ../data/raw/run26_ch6.npy\n",
      "----------------------\n",
      "\n"
     ]
    }
   ],
   "source": [
    "input_file = input(\"Please select input File: \")\n",
    "info = read_input_file(input_file)\n",
    "\n",
    "runs = []; channels = []\n",
    "runs = np.append(runs,info[\"CALIB_RUNS\"])\n",
    "runs = np.append(runs,info[\"LIGHT_RUNS\"])\n",
    "runs = np.append(runs,info[\"ALPHA_RUNS\"])\n",
    "\n",
    "channels = np.append(channels,info[\"CHAN_STNRD\"])\n",
    "\n",
    "root2npy(runs.astype(int),channels.astype(int),info=info,debug=True)"
   ]
  },
  {
   "cell_type": "code",
   "execution_count": 3,
   "metadata": {},
   "outputs": [
    {
     "name": "stdout",
     "output_type": "stream",
     "text": [
      "\n",
      "Loaded runs with keys:\n",
      "dict_keys(['NRun', 'NChannel', 2])\n",
      "\n",
      "Loaded runs with keys:\n",
      "dict_keys(['NRun', 'NChannel', 2])\n",
      "\n",
      "Loaded runs with keys:\n",
      "dict_keys(['NRun', 'NChannel', 2, 10])\n",
      "\n",
      "Loaded runs with keys:\n",
      "dict_keys(['NRun', 'NChannel', 2, 10])\n",
      "\n",
      "Loaded runs with keys:\n",
      "dict_keys(['NRun', 'NChannel', 2, 10, 26])\n",
      "\n",
      "Loaded runs with keys:\n",
      "dict_keys(['NRun', 'NChannel', 2, 10, 26])\n"
     ]
    },
    {
     "data": {
      "text/plain": [
       "dict_keys(['NRun', 'NChannel', 2, 10, 26])"
      ]
     },
     "execution_count": 3,
     "metadata": {},
     "output_type": "execute_result"
    }
   ],
   "source": [
    "# print(runs.astype(int))\n",
    "my_runs = load_npy(runs.astype(int),channels.astype(int),\"\",\"../data/raw/\",debug=True)\n",
    "my_runs.keys()"
   ]
  },
  {
   "cell_type": "code",
   "execution_count": 6,
   "metadata": {},
   "outputs": [
    {
     "data": {
      "text/plain": [
       "{'NRun': array([ 2, 10, 26]),\n",
       " 'NChannel': array([0, 6]),\n",
       " 2: {0: {'ADC': array([[15966, 15970, 15966, ..., 15964, 15965, 15967],\n",
       "          [15962, 15967, 15962, ..., 15971, 15977, 15970],\n",
       "          [15966, 15969, 15968, ..., 15965, 15971, 15969],\n",
       "          ...,\n",
       "          [15966, 15966, 15966, ..., 15963, 15968, 15963],\n",
       "          [15970, 15966, 15963, ..., 15959, 15966, 15965],\n",
       "          [15968, 15965, 15965, ..., 15961, 15962, 15965]], dtype=int16),\n",
       "   'Sampling': 4e-09,\n",
       "   'EventNumber': array([ 3069,  3070,  3071, ..., 33756, 33757, 33758], dtype=int32),\n",
       "   'TriggerTimeStamp': array([ 383740685,  383865685,  383990685, ..., 5410964845, 5411089845,\n",
       "          5411214843], dtype=uint64),\n",
       "   'PCTimeStamp': array([ 3,  3,  3, ..., 43, 43, 43], dtype=uint64),\n",
       "   'NBinsWvf': 5000,\n",
       "   'Label': 'SiPM0',\n",
       "   'PChannel': -1},\n",
       "  6: {'ADC': array([[-4192, -4190, -4194, ..., -4191, -4190, -4190],\n",
       "          [-4192, -4197, -4194, ..., -4193, -4193, -4200],\n",
       "          [-4202, -4199, -4198, ..., -4202, -4197, -4195],\n",
       "          ...,\n",
       "          [-4194, -4187, -4191, ..., -4201, -4191, -4196],\n",
       "          [-4196, -4196, -4191, ..., -4192, -4187, -4194],\n",
       "          [-4194, -4187, -4190, ..., -4197, -4196, -4194]], dtype=int16),\n",
       "   'Sampling': 4e-09,\n",
       "   'EventNumber': array([ 3069,  3070,  3071, ..., 33756, 33757, 33758], dtype=int32),\n",
       "   'TriggerTimeStamp': array([ 383740685,  383865685,  383990685, ..., 5410964845, 5411089845,\n",
       "          5411214843], dtype=uint64),\n",
       "   'PCTimeStamp': array([ 3,  3,  3, ..., 43, 43, 43], dtype=uint64),\n",
       "   'NBinsWvf': 5000,\n",
       "   'Label': 'SC\\n',\n",
       "   'PChannel': -1}},\n",
       " 10: {0: {'ADC': array([[15962, 15962, 15963, ..., 15962, 15960, 15956],\n",
       "          [15961, 15952, 15963, ..., 15958, 15960, 15958],\n",
       "          [15960, 15960, 15960, ..., 15958, 15957, 15956],\n",
       "          ...,\n",
       "          [15960, 15954, 15962, ..., 15957, 15962, 15963],\n",
       "          [15957, 15956, 15962, ..., 15955, 15963, 15957],\n",
       "          [15957, 15960, 15957, ..., 15954, 15959, 15959]], dtype=int16),\n",
       "   'Sampling': 4e-09,\n",
       "   'EventNumber': array([ 3069,  3070,  3071, ..., 25572, 25573, 25574], dtype=int32),\n",
       "   'TriggerTimeStamp': array([ 401674043,  406674009,  406924007, ..., 5322641447, 5322891445,\n",
       "          5323016443], dtype=uint64),\n",
       "   'PCTimeStamp': array([ 3,  3,  3, ..., 42, 42, 42], dtype=uint64),\n",
       "   'NBinsWvf': 5000,\n",
       "   'Label': 'SiPM0',\n",
       "   'PChannel': -1},\n",
       "  6: {'ADC': array([[-4196, -4195, -4198, ..., -4194, -4198, -4193],\n",
       "          [-4192, -4197, -4189, ..., -4198, -4194, -4200],\n",
       "          [-4194, -4193, -4190, ..., -4195, -4188, -4189],\n",
       "          ...,\n",
       "          [-4190, -4187, -4195, ..., -4196, -4197, -4196],\n",
       "          [-4185, -4193, -4188, ..., -4196, -4193, -4194],\n",
       "          [-4194, -4197, -4199, ..., -4189, -4190, -4195]], dtype=int16),\n",
       "   'Sampling': 4e-09,\n",
       "   'EventNumber': array([ 3069,  3070,  3071, ..., 25572, 25573, 25574], dtype=int32),\n",
       "   'TriggerTimeStamp': array([ 401674043,  406674009,  406924007, ..., 5322641447, 5322891445,\n",
       "          5323016443], dtype=uint64),\n",
       "   'PCTimeStamp': array([ 3,  3,  3, ..., 42, 42, 42], dtype=uint64),\n",
       "   'NBinsWvf': 5000,\n",
       "   'Label': 'SC\\n',\n",
       "   'PChannel': -1}},\n",
       " 26: {0: {'ADC': array([[15958, 15960, 15956, ..., 15957, 15954, 15952],\n",
       "          [15957, 15949, 15955, ..., 15956, 15954, 15960],\n",
       "          [15953, 15959, 15959, ..., 15961, 15953, 15961],\n",
       "          ...,\n",
       "          [15959, 15962, 15959, ..., 15961, 15956, 15961],\n",
       "          [15959, 15956, 15958, ..., 15958, 15960, 15959],\n",
       "          [15963, 15961, 15951, ..., 15959, 15960, 15959]], dtype=int16),\n",
       "   'Sampling': 4e-09,\n",
       "   'EventNumber': array([  108,   109,   110, ..., 10047, 10048, 10049], dtype=int32),\n",
       "   'TriggerTimeStamp': array([  552228565,   552854709,   553432919, ..., 46270923615,\n",
       "          46272854267, 46275179579], dtype=uint64),\n",
       "   'PCTimeStamp': array([  4,   4,   4, ..., 370, 370, 370], dtype=uint64),\n",
       "   'NBinsWvf': 5000,\n",
       "   'Label': 'SiPM0',\n",
       "   'PChannel': -1},\n",
       "  6: {'ADC': array([[-4197, -4192, -4195, ..., -4196, -4196, -4198],\n",
       "          [-4190, -4191, -4191, ..., -4194, -4192, -4198],\n",
       "          [-4186, -4195, -4190, ..., -4197, -4202, -4202],\n",
       "          ...,\n",
       "          [-4191, -4192, -4190, ..., -4193, -4192, -4193],\n",
       "          [-4190, -4189, -4192, ..., -4198, -4192, -4193],\n",
       "          [-4199, -4193, -4191, ..., -4197, -4193, -4190]], dtype=int16),\n",
       "   'Sampling': 4e-09,\n",
       "   'EventNumber': array([  108,   109,   110, ..., 10047, 10048, 10049], dtype=int32),\n",
       "   'TriggerTimeStamp': array([  552228565,   552854709,   553432919, ..., 46270923615,\n",
       "          46272854267, 46275179579], dtype=uint64),\n",
       "   'PCTimeStamp': array([  4,   4,   4, ..., 370, 370, 370], dtype=uint64),\n",
       "   'NBinsWvf': 5000,\n",
       "   'Label': 'SC\\n',\n",
       "   'PChannel': -1}}}"
      ]
     },
     "execution_count": 6,
     "metadata": {},
     "output_type": "execute_result"
    }
   ],
   "source": [
    "my_runs"
   ]
  },
  {
   "cell_type": "code",
   "execution_count": null,
   "metadata": {},
   "outputs": [],
   "source": []
  }
 ],
 "metadata": {
  "kernelspec": {
   "display_name": "Python 3",
   "language": "python",
   "name": "python3"
  },
  "language_info": {
   "codemirror_mode": {
    "name": "ipython",
    "version": 3
   },
   "file_extension": ".py",
   "mimetype": "text/x-python",
   "name": "python",
   "nbconvert_exporter": "python",
   "pygments_lexer": "ipython3",
   "version": "3.10.6"
  },
  "orig_nbformat": 4,
  "vscode": {
   "interpreter": {
    "hash": "916dbcbb3f70747c44a77c7bcd40155683ae19c65e1c03b4aa3499c5328201f1"
   }
  }
 },
 "nbformat": 4,
 "nbformat_minor": 2
}

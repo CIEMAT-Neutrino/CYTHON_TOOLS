{
 "cells": [
  {
   "cell_type": "code",
   "execution_count": 261,
   "metadata": {},
   "outputs": [],
   "source": [
    "import sys\n",
    "sys.path.insert(0, '../')\n",
    "from lib.io_functions import load_npy,load_average_npy,load_analysis_npy\n",
    "\n",
    "import matplotlib.pyplot as plt\n",
    "import numpy as np\n",
    "# %matplotlib qt\n",
    "\n",
    "run = 22\n",
    "dec_run = 10\n",
    "ch = [0,1,4,6]\n",
    "\n",
    "my_runs  = load_npy          ([run]    ,ch)\n",
    "dec_runs = load_average_npy  ([dec_run],ch)\n",
    "var_runs = load_analysis_npy ([run],ch)"
   ]
  },
  {
   "cell_type": "markdown",
   "metadata": {},
   "source": [
    "### Check av wvf makes sense\n"
   ]
  },
  {
   "cell_type": "code",
   "execution_count": 205,
   "metadata": {},
   "outputs": [],
   "source": [
    "for ev in range(5):\n",
    "    plt.figure()\n",
    "    wvf=[\n",
    "         dec_runs[10][0][\"AvWvf\"]                                  ,\n",
    "         dec_runs[10][0][\"AvWvf_peak\"]                             ,\n",
    "         dec_runs[10][0][\"AvWvf_threshold\"]                        ,\n",
    "        -my_runs [22][0][\"ADC\"][ev]+var_runs [22][1][\"Ped_mean\"][ev]\n",
    "        ]\n",
    "\n",
    "    plt.plot(wvf[0][np.argmax(wvf[0])-100:]/np.max(wvf[0]))\n",
    "    plt.plot(wvf[1][np.argmax(wvf[1])-100:]/np.max(wvf[1]))\n",
    "    plt.plot(wvf[2][np.argmax(wvf[2])-100:]/np.max(wvf[2]))\n",
    "    plt.plot(wvf[3][np.argmax(wvf[3])-100:]/np.max(wvf[3]))\n",
    "\n",
    "    plt.semilogy()\n",
    "    plt.xlim    ([75,200])\n",
    "    plt.ylim    ([0.1,1.1])\n",
    "    plt.legend  ([\"no center\",\"peak center\",\"threshold center\",\"Single event\"])"
   ]
  },
  {
   "cell_type": "markdown",
   "metadata": {},
   "source": [
    "## Wiener computation"
   ]
  },
  {
   "cell_type": "code",
   "execution_count": 206,
   "metadata": {},
   "outputs": [],
   "source": [
    "plt.figure()\n",
    "a=plt.hist(var_runs[run][0][\"Ped_STD\"],500,[0,5]);\n",
    "plt.semilogy()\n",
    "STD_av=a[1][np.argmax(a[0])]\n",
    "plt.title(\"Pedestal STD distribution\")\n",
    "\n",
    "noise=np.random.normal(0,STD_av,my_runs[run][0][\"NBins_wvf\"])"
   ]
  },
  {
   "cell_type": "code",
   "execution_count": 266,
   "metadata": {},
   "outputs": [
    {
     "data": {
      "text/plain": [
       "[]"
      ]
     },
     "execution_count": 266,
     "metadata": {},
     "output_type": "execute_result"
    }
   ],
   "source": [
    "import scipy.fft\n",
    "\n",
    "%matplotlib qt\n",
    "\n",
    "chan=4\n",
    "a=plt.hist(var_runs[run][chan][\"Ped_STD\"],500,[0,5]);\n",
    "STD_av=a[1][np.argmax(a[0])]\n",
    "\n",
    "plt.figure()\n",
    "# signal=wvf[0]\n",
    "signal  =load_average_npy([run]    ,ch)[run][chan][\"AvWvf_threshold\"]\n",
    "response=dec_runs                      [10 ][chan][\"AvWvf_threshold\"]\n",
    "\n",
    "FT_response=scipy.fft.rfft(response)\n",
    "FT_signal  =scipy.fft.rfft(signal)\n",
    "FT_noise   =scipy.fft.rfft(noise)\n",
    "\n",
    "Wiener     =np.abs(FT_response  )**2/(np.abs(FT_noise  )**2+np.abs(FT_response  )**2)\n",
    "Wiener[0]=0\n",
    "Gauss      =np.exp(-0.0000000000003*(np.arange(len(Wiener))**2))\n",
    "Gauss[0]=0;\n",
    "\n",
    "plt.plot(np.abs(FT_response) )\n",
    "plt.plot(np.abs(FT_signal  ) )\n",
    "plt.plot( Wiener )\n",
    "plt.plot( Gauss )\n",
    "plt.legend([\"Respuesta\",\"señal\",\"Wiener\",\"Gauss\"])\n",
    "\n",
    "\n",
    "plt.semilogy()\n",
    "plt.semilogx()\n",
    "plt.xlim([1e2,0.5e4])\n",
    "\n",
    "plt.figure()\n",
    "\n",
    "plt.plot(signal/max(signal))\n",
    "# plt.plot( np.fft.irfft(FT_response/FT_signal*Wiener) )\n",
    "plt.plot( scipy.fft.irfft(FT_response/FT_signal*Gauss) )\n",
    "\n",
    "\n",
    "plt.semilogy()\n",
    "\n"
   ]
  },
  {
   "cell_type": "code",
   "execution_count": 186,
   "metadata": {},
   "outputs": [
    {
     "data": {
      "text/plain": [
       "array([1.e+00, 1.e-01, 1.e-02, 1.e-03, 1.e-04])"
      ]
     },
     "execution_count": 186,
     "metadata": {},
     "output_type": "execute_result"
    }
   ],
   "source": []
  }
 ],
 "metadata": {
  "kernelspec": {
   "display_name": "Python 3",
   "language": "python",
   "name": "python3"
  },
  "language_info": {
   "codemirror_mode": {
    "name": "ipython",
    "version": 3
   },
   "file_extension": ".py",
   "mimetype": "text/x-python",
   "name": "python",
   "nbconvert_exporter": "python",
   "pygments_lexer": "ipython3",
   "version": "3.10.6"
  },
  "orig_nbformat": 4,
  "vscode": {
   "interpreter": {
    "hash": "916dbcbb3f70747c44a77c7bcd40155683ae19c65e1c03b4aa3499c5328201f1"
   }
  }
 },
 "nbformat": 4,
 "nbformat_minor": 2
}

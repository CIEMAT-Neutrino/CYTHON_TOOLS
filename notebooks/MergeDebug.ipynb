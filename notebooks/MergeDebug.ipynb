{
 "cells": [
  {
   "cell_type": "code",
   "execution_count": 12,
   "metadata": {},
   "outputs": [],
   "source": [
    "import sys\n",
    "sys.path.insert(0, '../')\n",
    "\n",
    "import numpy as np\n",
    "from itertools import product\n",
    "from lib.io_functions import read_input_file,root2npy,load_npy,save_proccesed_variables\n",
    "from lib.ana_functions import compute_peak_variables,compute_pedestal_variables"
   ]
  },
  {
   "cell_type": "code",
   "execution_count": 19,
   "metadata": {},
   "outputs": [],
   "source": [
    "! cd ../macros"
   ]
  },
  {
   "cell_type": "code",
   "execution_count": 20,
   "metadata": {},
   "outputs": [
    {
     "name": "stdout",
     "output_type": "stream",
     "text": [
      "Please select input File: ^C\n",
      "Traceback (most recent call last):\n",
      "  File \"Root2Np.py\", line 9, in <module>\n",
      "    input_file = input(\"Please select input File: \")\n",
      "KeyboardInterrupt\n"
     ]
    }
   ],
   "source": [
    "! python3 Root2Np.py MergeDebug"
   ]
  },
  {
   "cell_type": "code",
   "execution_count": null,
   "metadata": {},
   "outputs": [],
   "source": []
  },
  {
   "cell_type": "code",
   "execution_count": null,
   "metadata": {},
   "outputs": [],
   "source": [
    "####################\n",
    "#### Root2Np.py ####\n",
    "####################\n",
    "\n",
    "# PRE-SETUP --> sh /scripts/copy_data.sh to have the files in /data/raw\n",
    "\n",
    "info = read_input_file(\"MergeDebug\") \n",
    "\n",
    "runs = []; channels = []\n",
    "runs = np.append(runs, info[\"CALIB_RUNS\"])\n",
    "runs = np.append(runs, info[\"LIGHT_RUNS\"])\n",
    "runs = np.append(runs, info[\"ALPHA_RUNS\"])\n",
    "\n",
    "channels = np.append(channels, info[\"CHAN_STNRD\"])\n",
    "\n",
    "root2npy(runs.astype(int), channels.astype(int), info = info) #, debug = True"
   ]
  },
  {
   "cell_type": "code",
   "execution_count": 10,
   "metadata": {},
   "outputs": [
    {
     "name": "stdout",
     "output_type": "stream",
     "text": [
      "/home/laura/Analysis_Laura/CYTHON_TOOLS/macros\n"
     ]
    }
   ],
   "source": []
  },
  {
   "cell_type": "code",
   "execution_count": null,
   "metadata": {},
   "outputs": [],
   "source": [
    "####################\n",
    "#### Process.py ####\n",
    "####################"
   ]
  }
 ],
 "metadata": {
  "kernelspec": {
   "display_name": "Python 3",
   "language": "python",
   "name": "python3"
  },
  "language_info": {
   "codemirror_mode": {
    "name": "ipython",
    "version": 3
   },
   "file_extension": ".py",
   "mimetype": "text/x-python",
   "name": "python",
   "nbconvert_exporter": "python",
   "pygments_lexer": "ipython3",
   "version": "3.6.8"
  },
  "orig_nbformat": 4,
  "vscode": {
   "interpreter": {
    "hash": "916dbcbb3f70747c44a77c7bcd40155683ae19c65e1c03b4aa3499c5328201f1"
   }
  }
 },
 "nbformat": 4,
 "nbformat_minor": 2
}

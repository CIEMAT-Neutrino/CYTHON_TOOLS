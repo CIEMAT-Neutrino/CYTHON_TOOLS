{
 "cells": [
  {
   "cell_type": "code",
   "execution_count": 93,
   "metadata": {},
   "outputs": [],
   "source": [
    "import sys\n",
    "sys.path.insert(0, '../')\n",
    "from lib.io_functions import load_npy, save_proccesed_variables\n",
    "from lib.fit_functions import fit_wvfs\n",
    "from lib.sim_functions import rand_scint_times\n",
    "from lib.dec_functions import deconvolve\n",
    "\n",
    "import numpy as np\n",
    "import matplotlib.pyplot as plt\n",
    "from itertools import product"
   ]
  },
  {
   "cell_type": "code",
   "execution_count": 94,
   "metadata": {},
   "outputs": [],
   "source": [
    "show = False\n",
    "# Load data for wvf template\n",
    "raw_SER = open(\"../data/raw/SPE_maritza.txt\")\n",
    "expand_array = 1000\n",
    "# Generate empty array to import data\n",
    "SER = []\n",
    "for line in raw_SER.readlines():\n",
    "    SER.append(float(line))\n",
    "for i in np.zeros(expand_array):\n",
    "    SER.append(i)\n",
    "SER = np.array(SER)\n",
    "\n",
    "# Generate dict with required structure\n",
    "my_run = dict()\n",
    "\n",
    "my_run[\"N_runs\"] = [0]\n",
    "my_run[\"N_channels\"] = [0]\n",
    "\n",
    "my_run[0] = dict()\n",
    "my_run[0][0] = dict()\n",
    "my_run[0][0][\"ADC\"] = [np.array(SER)]\n",
    "my_run[0][0][\"Sampling\"] = 16e-9\n",
    "\n",
    "if show == True:\n",
    "    plt.plot(my_run[0][0][\"Sampling\"]*np.arange(len(my_run[0][0][\"ADC\"][0])),my_run[0][0][\"ADC\"][0])\n",
    "    plt.show()\n",
    "# print(my_run[0][0][\"ADC\"][0])"
   ]
  },
  {
   "cell_type": "code",
   "execution_count": 95,
   "metadata": {},
   "outputs": [
    {
     "name": "stdout",
     "output_type": "stream",
     "text": [
      "Fitting wvf  0\n",
      "\n",
      "\n"
     ]
    }
   ],
   "source": [
    "# One can substitute the template with a fit\n",
    "\n",
    "# %matplotlib qt\n",
    "OPT = {\"SHOW\": False}\n",
    "fit_wvfs(my_run,\"SC\",1e-4,OPT=OPT)\n",
    "max_idx = np.argmax(my_run[0][0][\"Fit_SC\"][0])\n",
    "pre = len(my_run[0][0][\"Fit_SC\"][0][:max_idx])\n",
    "post = len(my_run[0][0][\"Fit_SC\"][0][max_idx:])\n",
    "\n",
    "if show == True:\n",
    "    plt.plot(my_run[0][0][\"Sampling\"]*np.arange(len(my_run[0][0][\"ADC\"][0])),my_run[0][0][\"ADC\"][0])\n",
    "    plt.plot(my_run[0][0][\"Sampling\"]*np.arange(len(my_run[0][0][\"Fit_SC\"][0])),my_run[0][0][\"Fit_SC\"][0])\n",
    "    plt.show()"
   ]
  },
  {
   "cell_type": "code",
   "execution_count": 96,
   "metadata": {},
   "outputs": [],
   "source": [
    "my_run[0][0][\"MC_ADC\"] = []\n",
    "MC_num = 1000\n",
    "for i in range(MC_num):\n",
    "    times = rand_scint_times(N=50,slow=6e-9,fast=1e-6,ratio=0.15)\n",
    "    peaks = [];wvf = []\n",
    "\n",
    "    times_array = np.linspace(0,20e-6,int(20e-6/my_run[0][0][\"Sampling\"])+1)\n",
    "    wvf = np.zeros(pre+len(times_array)+post)\n",
    "\n",
    "    # print(len(wvf))\n",
    "    for t in times:\n",
    "        this_peak = int((t-(t%my_run[0][0][\"Sampling\"]))/my_run[0][0][\"Sampling\"])\n",
    "        peaks.append(this_peak)\n",
    "        this_wvf = np.zeros(pre+this_peak)\n",
    "        this_wvf = np.append(this_wvf,my_run[0][0][\"Fit_SC\"][0])\n",
    "        this_wvf = np.append(this_wvf,np.zeros(len(wvf)-len(this_wvf)))\n",
    "        wvf = wvf+this_wvf\n",
    "    my_run[0][0][\"MC_ADC\"].append(wvf)\n",
    "\n",
    "# plt.plot(my_run[0][0][\"Sampling\"]*np.arange(len(my_run[0][0][\"Fit_SC\"][0])),my_run[0][0][\"Fit_SC\"][0])\n"
   ]
  },
  {
   "cell_type": "code",
   "execution_count": 97,
   "metadata": {},
   "outputs": [],
   "source": [
    "if show == True:\n",
    "    num = np.random.randint(0,MC_num)\n",
    "    plt.plot(my_run[0][0][\"Sampling\"]*np.arange(len(my_run[0][0][\"ADC\"][0])),my_run[0][0][\"ADC\"][0])\n",
    "    plt.plot(times_array,my_run[0][0][\"MC_ADC\"][num][pre:-post])\n",
    "    plt.show()"
   ]
  },
  {
   "cell_type": "code",
   "execution_count": 110,
   "metadata": {},
   "outputs": [
    {
     "name": "stdout",
     "output_type": "stream",
     "text": [
      "Generated wvfs with key Dec_ADC\n"
     ]
    }
   ],
   "source": [
    "KEY = [\"MC_ADC\",\"ADC\",\"Dec_ADC\"]\n",
    "OPT = {\n",
    "    \"NOISE_AMP\": 1,\n",
    "    \"FIX_EXP\":True,\n",
    "    \"LOGY\":False,\n",
    "    \"NORM\":True,\n",
    "    \"AUTO_TRIMM\":True,\n",
    "    \"PRO_RODRIGO\": False,\n",
    "    \"WIENER_BUFFER\": 200,\n",
    "    # \"THRLD\": 1e-4\n",
    "    }\n",
    "# print(my_run[0][0][KEY[1]][0])\n",
    "deconvolve(my_run,my_run,my_run,KEY,OPT)"
   ]
  },
  {
   "cell_type": "code",
   "execution_count": 113,
   "metadata": {},
   "outputs": [
    {
     "data": {
      "image/png": "[encoded data removed]",
      "text/plain": [
       "<Figure size 800x800 with 1 Axes>"
      ]
     },
     "metadata": {},
     "output_type": "display_data"
    }
   ],
   "source": [
    "show = True\n",
    "if show == True:\n",
    "    my_run[0][0].keys()\n",
    "    num = np.random.randint(0,MC_num)\n",
    "    charge = np.sum(my_run[0][0][\"Dec_ADC\"][num])\n",
    "    norm = True\n",
    "    if norm == True:\n",
    "        plt.plot(my_run[0][0][\"Sampling\"]*np.arange(len(my_run[0][0][\"MC_ADC\"][num])),my_run[0][0][\"MC_ADC\"][num]/np.max(my_run[0][0][\"MC_ADC\"][num]),label=\"MC\")\n",
    "        plt.plot(my_run[0][0][\"Sampling\"]*np.arange(len(my_run[0][0][\"Dec_ADC\"][num])),my_run[0][0][\"Dec_ADC\"][num]/np.max(my_run[0][0][\"Dec_ADC\"][num]),label=\"#PE = %.2f\"%charge)\n",
    "    else:\n",
    "        plt.plot(my_run[0][0][\"Sampling\"]*np.arange(len(my_run[0][0][\"MC_ADC\"][num])),my_run[0][0][\"MC_ADC\"][num],label=\"MC\")\n",
    "        plt.plot(my_run[0][0][\"Sampling\"]*np.arange(len(my_run[0][0][\"Dec_ADC\"][num])),my_run[0][0][\"Dec_ADC\"][num],label=\"#PE = %.2f\"%charge)\n",
    "    plt.axhline(0,ls=\"--\",alpha=0.5,c=\"black\")\n",
    "    plt.legend()\n",
    "    # plt.semilogy()\n",
    "    plt.show()"
   ]
  }
 ],
 "metadata": {
  "kernelspec": {
   "display_name": "Python 3",
   "language": "python",
   "name": "python3"
  },
  "language_info": {
   "codemirror_mode": {
    "name": "ipython",
    "version": 3
   },
   "file_extension": ".py",
   "mimetype": "text/x-python",
   "name": "python",
   "nbconvert_exporter": "python",
   "pygments_lexer": "ipython3",
   "version": "3.10.6"
  },
  "orig_nbformat": 4,
  "vscode": {
   "interpreter": {
    "hash": "916dbcbb3f70747c44a77c7bcd40155683ae19c65e1c03b4aa3499c5328201f1"
   }
  }
 },
 "nbformat": 4,
 "nbformat_minor": 2
}

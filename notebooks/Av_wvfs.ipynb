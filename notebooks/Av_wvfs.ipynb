{
 "cells": [
  {
   "cell_type": "code",
   "execution_count": 1,
   "metadata": {},
   "outputs": [
    {
     "name": "stdout",
     "output_type": "stream",
     "text": [
      "Saved data in: ../data/ave/Average_run10_ch0.npy\n",
      "Saved data in: ../data/ave/Average_run10_ch1.npy\n",
      "Saved data in: ../data/ave/Average_run10_ch4.npy\n",
      "Saved data in: ../data/ave/Average_run10_ch6.npy\n",
      "Saved data in: ../data/ave/Average_run22_ch0.npy\n",
      "Saved data in: ../data/ave/Average_run22_ch1.npy\n",
      "Saved data in: ../data/ave/Average_run22_ch4.npy\n",
      "Saved data in: ../data/ave/Average_run22_ch6.npy\n",
      "Saved data in: ../data/ave/Average_run26_ch0.npy\n",
      "Saved data in: ../data/ave/Average_run26_ch1.npy\n",
      "Saved data in: ../data/ave/Average_run26_ch4.npy\n",
      "Saved data in: ../data/ave/Average_run26_ch6.npy\n"
     ]
    }
   ],
   "source": [
    "sys.path.insert(0, '../')\n",
    "\n",
    "from lib.wvf_functions import average_wvfs\n",
    "import sys\n",
    "from lib.io_functions import load_npy,load_average_npy\n",
    "import numpy as np\n",
    "import matplotlib.pyplot as plt\n",
    "\n",
    "N_runs     =[10,22,26]     \n",
    "N_channels =[0,1,4,6]       \n",
    "Pl         =[-1,-1,-1,-1]   #polarity\n",
    "P_channels ={}\n",
    "for ch,pl in zip(N_channels,Pl): P_channels[ch]=pl\n",
    "\n",
    "L_channels  =[\"SiPM1\",\"SiPM2\",\"PMT\",\"SuperCell\"]\n",
    "RUNS=load_npy(N_runs, N_channels)\n",
    "\n",
    "average_wvfs(RUNS)"
   ]
  },
  {
   "cell_type": "code",
   "execution_count": 2,
   "metadata": {},
   "outputs": [],
   "source": [
    "my_runs = load_npy([26],[6])\n",
    "dec_runs = load_average_npy([10],[6])\n"
   ]
  },
  {
   "cell_type": "code",
   "execution_count": 4,
   "metadata": {},
   "outputs": [
    {
     "data": {
      "text/plain": [
       "array([ 0.04700151, -0.09419284,  0.04579721, ...,  0.06188501,\n",
       "        0.39385657,  1.48079286])"
      ]
     },
     "execution_count": 4,
     "metadata": {},
     "output_type": "execute_result"
    },
    {
     "name": "stderr",
     "output_type": "stream",
     "text": [
      "qt.qpa.wayland: Wayland does not support QWindow::requestActivate()\n",
      "qt.qpa.wayland: Wayland does not support QWindow::requestActivate()\n",
      "/home/rodrigoa/.local/lib/python3.10/site-packages/ipykernel/eventloops.py:107: UserWarning: Attempted to set non-positive bottom ylim on a log-scaled axis.\n",
      "Invalid limit will be ignored.\n",
      "  app.exec_()\n"
     ]
    }
   ],
   "source": [
    "%matplotlib qt\n",
    "\n",
    "plt.plot(dec_runs[10][6][\"AvWvf\"])\n",
    "plt.plot(dec_runs[10][6][\"AvWvf_peak\"])\n",
    "plt.plot(dec_runs[10][6][\"AvWvf_threshold\"])\n",
    "dec_runs[10][6][\"AvWvf\"]-dec_runs[10][6][\"AvWvf_peak\"]"
   ]
  }
 ],
 "metadata": {
  "kernelspec": {
   "display_name": "Python 3",
   "language": "python",
   "name": "python3"
  },
  "language_info": {
   "codemirror_mode": {
    "name": "ipython",
    "version": 3
   },
   "file_extension": ".py",
   "mimetype": "text/x-python",
   "name": "python",
   "nbconvert_exporter": "python",
   "pygments_lexer": "ipython3",
   "version": "3.10.6"
  },
  "orig_nbformat": 4,
  "vscode": {
   "interpreter": {
    "hash": "916dbcbb3f70747c44a77c7bcd40155683ae19c65e1c03b4aa3499c5328201f1"
   }
  }
 },
 "nbformat": 4,
 "nbformat_minor": 2
}

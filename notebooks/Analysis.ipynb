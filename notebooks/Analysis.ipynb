{
 "cells": [
  {
   "cell_type": "code",
   "execution_count": 1,
   "metadata": {},
   "outputs": [],
   "source": [
    "import sys\n",
    "sys.path.insert(0, '../')\n",
    "from lib.io_functions import load_npy, save_proccesed_variables\n",
    "import numpy as np\n",
    "import matplotlib.pyplot as plt\n",
    "from itertools import product"
   ]
  },
  {
   "cell_type": "code",
   "execution_count": 2,
   "metadata": {},
   "outputs": [
    {
     "name": "stdout",
     "output_type": "stream",
     "text": [
      "\n",
      "Loaded runs with keys:\n",
      "dict_keys(['N_runs', 'N_channels', 1])\n",
      "\n",
      "Loaded runs with keys:\n",
      "dict_keys(['N_runs', 'N_channels', 1])\n",
      "\n",
      "Loaded runs with keys:\n",
      "dict_keys(['N_runs', 'N_channels', 1])\n",
      "\n",
      "Loaded runs with keys:\n",
      "dict_keys(['N_runs', 'N_channels', 1])\n",
      "\n",
      "Loaded runs with keys:\n",
      "dict_keys(['N_runs', 'N_channels', 1, 2])\n",
      "\n",
      "Loaded runs with keys:\n",
      "dict_keys(['N_runs', 'N_channels', 1, 2])\n",
      "\n",
      "Loaded runs with keys:\n",
      "dict_keys(['N_runs', 'N_channels', 1, 2])\n",
      "\n",
      "Loaded runs with keys:\n",
      "dict_keys(['N_runs', 'N_channels', 1, 2])\n",
      "\n",
      "Loaded runs with keys:\n",
      "dict_keys(['N_runs', 'N_channels', 1, 2, 3])\n",
      "\n",
      "Loaded runs with keys:\n",
      "dict_keys(['N_runs', 'N_channels', 1, 2, 3])\n",
      "\n",
      "Loaded runs with keys:\n",
      "dict_keys(['N_runs', 'N_channels', 1, 2, 3])\n",
      "\n",
      "Loaded runs with keys:\n",
      "dict_keys(['N_runs', 'N_channels', 1, 2, 3])\n"
     ]
    }
   ],
   "source": [
    "N_runs     =[1,2,3]     \n",
    "N_channels =[0,1,4,6]       \n",
    "\n",
    "RUNS=load_npy(N_runs, N_channels)"
   ]
  },
  {
   "cell_type": "code",
   "execution_count": 4,
   "metadata": {},
   "outputs": [
    {
     "name": "stdout",
     "output_type": "stream",
     "text": [
      "4e-09\n",
      "SC\n",
      "\n",
      "-1\n"
     ]
    }
   ],
   "source": [
    "run = 3\n",
    "ch = 6\n",
    "RUNS[run][ch].keys()\n",
    "print(RUNS[run][ch][\"Sampling\"])\n",
    "print(RUNS[run][ch][\"Label\"])\n",
    "print(RUNS[run][ch][\"P_channel\"])"
   ]
  },
  {
   "cell_type": "code",
   "execution_count": 5,
   "metadata": {},
   "outputs": [
    {
     "name": "stdout",
     "output_type": "stream",
     "text": [
      "\n",
      "Loaded Analysis_runs with keys:\n",
      "dict_keys(['N_runs', 'N_channels', 1])\n",
      "\n",
      "Loaded Analysis_runs with keys:\n",
      "dict_keys(['N_runs', 'N_channels', 1])\n",
      "\n",
      "Loaded Analysis_runs with keys:\n",
      "dict_keys(['N_runs', 'N_channels', 1])\n",
      "\n",
      "Loaded Analysis_runs with keys:\n",
      "dict_keys(['N_runs', 'N_channels', 1])\n",
      "\n",
      "Loaded Analysis_runs with keys:\n",
      "dict_keys(['N_runs', 'N_channels', 1, 2])\n",
      "\n",
      "Loaded Analysis_runs with keys:\n",
      "dict_keys(['N_runs', 'N_channels', 1, 2])\n",
      "\n",
      "Loaded Analysis_runs with keys:\n",
      "dict_keys(['N_runs', 'N_channels', 1, 2])\n",
      "\n",
      "Loaded Analysis_runs with keys:\n",
      "dict_keys(['N_runs', 'N_channels', 1, 2])\n",
      "\n",
      "Loaded Analysis_runs with keys:\n",
      "dict_keys(['N_runs', 'N_channels', 1, 2, 3])\n",
      "\n",
      "Loaded Analysis_runs with keys:\n",
      "dict_keys(['N_runs', 'N_channels', 1, 2, 3])\n",
      "\n",
      "Loaded Analysis_runs with keys:\n",
      "dict_keys(['N_runs', 'N_channels', 1, 2, 3])\n",
      "\n",
      "Loaded Analysis_runs with keys:\n",
      "dict_keys(['N_runs', 'N_channels', 1, 2, 3])\n"
     ]
    }
   ],
   "source": [
    "ANA_RUNS=load_npy(N_runs, N_channels,\"Analysis_\",\"../data/ana/\")"
   ]
  },
  {
   "cell_type": "code",
   "execution_count": 6,
   "metadata": {},
   "outputs": [
    {
     "name": "stdout",
     "output_type": "stream",
     "text": [
      "1\n",
      "[ 904 1478 1106 ...  802 1063   68]\n"
     ]
    },
    {
     "ename": "KeyError",
     "evalue": "'Ped_mean'",
     "output_type": "error",
     "traceback": [
      "\u001b[0;31m---------------------------------------------------------------------------\u001b[0m",
      "\u001b[0;31mKeyError\u001b[0m                                  Traceback (most recent call last)",
      "Cell \u001b[0;32mIn [6], line 3\u001b[0m\n\u001b[1;32m      1\u001b[0m \u001b[39mprint\u001b[39m(ANA_RUNS[run][ch][\u001b[39m\"\u001b[39m\u001b[39mP_channel\u001b[39m\u001b[39m\"\u001b[39m])\n\u001b[1;32m      2\u001b[0m \u001b[39mprint\u001b[39m(ANA_RUNS[run][ch][\u001b[39m\"\u001b[39m\u001b[39mPeak_time\u001b[39m\u001b[39m\"\u001b[39m])\n\u001b[0;32m----> 3\u001b[0m \u001b[39mprint\u001b[39m(ANA_RUNS[run][ch][\u001b[39m\"\u001b[39;49m\u001b[39mPed_mean\u001b[39;49m\u001b[39m\"\u001b[39;49m])\n\u001b[1;32m      4\u001b[0m \u001b[39mprint\u001b[39m(ANA_RUNS[run][ch][\u001b[39m\"\u001b[39m\u001b[39mPeak_amp\u001b[39m\u001b[39m\"\u001b[39m])\n\u001b[1;32m      5\u001b[0m \u001b[39mprint\u001b[39m(ANA_RUNS[run][ch][\u001b[39m\"\u001b[39m\u001b[39mLabel\u001b[39m\u001b[39m\"\u001b[39m])\n",
      "\u001b[0;31mKeyError\u001b[0m: 'Ped_mean'"
     ]
    }
   ],
   "source": [
    "print(ANA_RUNS[run][ch][\"P_channel\"])\n",
    "print(ANA_RUNS[run][ch][\"Peak_time\"])\n",
    "print(ANA_RUNS[run][ch][\"Ped_mean\"])\n",
    "print(ANA_RUNS[run][ch][\"Peak_amp\"])\n",
    "print(ANA_RUNS[run][ch][\"Label\"])"
   ]
  }
 ],
 "metadata": {
  "kernelspec": {
   "display_name": "Python 3",
   "language": "python",
   "name": "python3"
  },
  "language_info": {
   "codemirror_mode": {
    "name": "ipython",
    "version": 3
   },
   "file_extension": ".py",
   "mimetype": "text/x-python",
   "name": "python",
   "nbconvert_exporter": "python",
   "pygments_lexer": "ipython3",
   "version": "3.10.6"
  },
  "orig_nbformat": 4,
  "vscode": {
   "interpreter": {
    "hash": "916dbcbb3f70747c44a77c7bcd40155683ae19c65e1c03b4aa3499c5328201f1"
   }
  }
 },
 "nbformat": 4,
 "nbformat_minor": 2
}

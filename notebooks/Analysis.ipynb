{
 "cells": [
  {
   "cell_type": "code",
   "execution_count": 1,
   "metadata": {},
   "outputs": [],
   "source": [
    "import sys\n",
    "sys.path.insert(0, '../')\n",
    "from lib.io_functions import load_npy, save_proccesed_variables\n",
    "import numpy as np\n",
    "import matplotlib.pyplot as plt\n",
    "from itertools import product"
   ]
  },
  {
   "cell_type": "code",
   "execution_count": 2,
   "metadata": {},
   "outputs": [
    {
     "data": {
      "text/plain": [
       "dict_keys(['N_runs', 'N_channels', 10, 22, 26])"
      ]
     },
     "execution_count": 2,
     "metadata": {},
     "output_type": "execute_result"
    }
   ],
   "source": [
    "N_runs     =[10,22,26]     \n",
    "# N_runs     =[2]     \n",
    "N_channels =[0,1,4,6]       \n",
    "# N_channels =[6]       \n",
    "# Pl         =[-1,-1,-1,-1]   #polarity\n",
    "Pl         =[-1,-1,-1,-1]   #polarity\n",
    "P_channels ={}\n",
    "for ch,pl in zip(N_channels,Pl): P_channels[ch]=pl\n",
    "\n",
    "L_channels  =[\"SiPM1\",\"SiPM2\",\"PMT\",\"SuperCell\"]\n",
    "RUNS=load_npy(N_runs, N_channels)\n",
    "ANA_RUN = load_npy(N_runs,N_channels,\"Analysis_\",\"../data/ana/\")\n",
    "\n",
    "\n",
    "#Customizable\n",
    "PROP={}\n",
    "PROP[\"sampling\"]=4; #ns\n",
    "PROP[\"NBins_Ped\"]=250\n",
    "\n",
    "RUNS.keys()"
   ]
  },
  {
   "cell_type": "code",
   "execution_count": 10,
   "metadata": {},
   "outputs": [],
   "source": [
    "aux_ADC = ANA_RUN[10][0][\"Ana_ADC\"]"
   ]
  },
  {
   "cell_type": "code",
   "execution_count": 45,
   "metadata": {},
   "outputs": [
    {
     "data": {
      "text/plain": [
       "array([[-2.54411765, -2.54411765, -3.54411765, ..., -2.54411765,\n",
       "        -0.54411765,  3.45588235],\n",
       "       [-1.67857143,  7.32142857, -3.67857143, ...,  1.32142857,\n",
       "        -0.67857143,  1.32142857],\n",
       "       [-1.55462185, -1.55462185, -1.55462185, ...,  0.44537815,\n",
       "         1.44537815,  2.44537815],\n",
       "       ...,\n",
       "       [-2.07563025,  3.92436975, -4.07563025, ...,  0.92436975,\n",
       "        -4.07563025, -5.07563025],\n",
       "       [ 0.95378151,  1.95378151, -4.04621849, ...,  2.95378151,\n",
       "        -5.04621849,  0.95378151],\n",
       "       [ 0.97689076, -2.02310924,  0.97689076, ...,  3.97689076,\n",
       "        -1.02310924, -1.02310924]])"
      ]
     },
     "execution_count": 45,
     "metadata": {},
     "output_type": "execute_result"
    }
   ],
   "source": [
    "ANA_RUN[10][0][\"Ana_ADC\"]"
   ]
  },
  {
   "cell_type": "code",
   "execution_count": 77,
   "metadata": {},
   "outputs": [
    {
     "name": "stdout",
     "output_type": "stream",
     "text": [
      "1049.2499999999998 1049.0\n"
     ]
    }
   ],
   "source": [
    "if 1050 < np.round(4.197e-6/4e-9,0):\n",
    "    print(\"HOla\")\n",
    "idx1 = np.round(4.197e-6/4e-9,0)\n",
    "idx2 = np.round(4.250e-6/4e-9,0)"
   ]
  }
 ],
 "metadata": {
  "kernelspec": {
   "display_name": "Python 3",
   "language": "python",
   "name": "python3"
  },
  "language_info": {
   "codemirror_mode": {
    "name": "ipython",
    "version": 3
   },
   "file_extension": ".py",
   "mimetype": "text/x-python",
   "name": "python",
   "nbconvert_exporter": "python",
   "pygments_lexer": "ipython3",
   "version": "3.10.6"
  },
  "orig_nbformat": 4,
  "vscode": {
   "interpreter": {
    "hash": "916dbcbb3f70747c44a77c7bcd40155683ae19c65e1c03b4aa3499c5328201f1"
   }
  }
 },
 "nbformat": 4,
 "nbformat_minor": 2
}

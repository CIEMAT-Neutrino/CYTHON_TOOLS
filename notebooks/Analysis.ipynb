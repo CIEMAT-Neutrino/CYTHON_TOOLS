{
 "cells": [
  {
   "cell_type": "code",
   "execution_count": 1,
   "metadata": {},
   "outputs": [],
   "source": [
    "import sys\n",
    "sys.path.insert(0, '../')\n",
    "from lib.io_functions import load_npy, save_proccesed_variables\n",
    "import numpy as np\n",
    "import matplotlib.pyplot as plt\n",
    "from itertools import product"
   ]
  },
  {
   "cell_type": "code",
   "execution_count": 2,
   "metadata": {},
   "outputs": [
    {
     "name": "stdout",
     "output_type": "stream",
     "text": [
      "\n",
      "Loaded runs with keys:\n",
      "dict_keys(['N_runs', 'N_channels', 1])\n",
      "\n",
      "Loaded runs with keys:\n",
      "dict_keys(['N_runs', 'N_channels', 1])\n",
      "\n",
      "Loaded runs with keys:\n",
      "dict_keys(['N_runs', 'N_channels', 1])\n",
      "\n",
      "Loaded runs with keys:\n",
      "dict_keys(['N_runs', 'N_channels', 1])\n",
      "\n",
      "Loaded runs with keys:\n",
      "dict_keys(['N_runs', 'N_channels', 1, 2])\n",
      "\n",
      "Loaded runs with keys:\n",
      "dict_keys(['N_runs', 'N_channels', 1, 2])\n",
      "\n",
      "Loaded runs with keys:\n",
      "dict_keys(['N_runs', 'N_channels', 1, 2])\n",
      "\n",
      "Loaded runs with keys:\n",
      "dict_keys(['N_runs', 'N_channels', 1, 2])\n",
      "\n",
      "Loaded runs with keys:\n",
      "dict_keys(['N_runs', 'N_channels', 1, 2, 3])\n",
      "\n",
      "Loaded runs with keys:\n",
      "dict_keys(['N_runs', 'N_channels', 1, 2, 3])\n",
      "\n",
      "Loaded runs with keys:\n",
      "dict_keys(['N_runs', 'N_channels', 1, 2, 3])\n",
      "\n",
      "Loaded runs with keys:\n",
      "dict_keys(['N_runs', 'N_channels', 1, 2, 3])\n"
     ]
    }
   ],
   "source": [
    "N_runs     =[1,2,3]     \n",
    "N_channels =[0,1,4,6]       \n",
    "\n",
    "RUNS=load_npy(N_runs, N_channels)"
   ]
  },
  {
   "cell_type": "code",
   "execution_count": 4,
   "metadata": {},
   "outputs": [
    {
     "name": "stdout",
     "output_type": "stream",
     "text": [
      "4e-09\n",
      "SC\n",
      "\n",
      "-1\n"
     ]
    }
   ],
   "source": [
    "run = 3\n",
    "ch = 6\n",
    "RUNS[run][ch].keys()\n",
    "print(RUNS[run][ch][\"Sampling\"])\n",
    "print(RUNS[run][ch][\"Label\"])\n",
    "print(RUNS[run][ch][\"P_channel\"])"
   ]
  },
  {
   "cell_type": "code",
   "execution_count": 8,
   "metadata": {},
   "outputs": [
    {
     "name": "stdout",
     "output_type": "stream",
     "text": [
      "\n",
      "Loaded Analysis_runs with keys:\n",
      "dict_keys(['N_runs', 'N_channels', 1])\n",
      "\n",
      "Loaded Analysis_runs with keys:\n",
      "dict_keys(['N_runs', 'N_channels', 1])\n",
      "\n",
      "Loaded Analysis_runs with keys:\n",
      "dict_keys(['N_runs', 'N_channels', 1])\n",
      "\n",
      "Loaded Analysis_runs with keys:\n",
      "dict_keys(['N_runs', 'N_channels', 1])\n",
      "\n",
      "Loaded Analysis_runs with keys:\n",
      "dict_keys(['N_runs', 'N_channels', 1, 2])\n",
      "\n",
      "Loaded Analysis_runs with keys:\n",
      "dict_keys(['N_runs', 'N_channels', 1, 2])\n",
      "\n",
      "Loaded Analysis_runs with keys:\n",
      "dict_keys(['N_runs', 'N_channels', 1, 2])\n",
      "\n",
      "Loaded Analysis_runs with keys:\n",
      "dict_keys(['N_runs', 'N_channels', 1, 2])\n",
      "\n",
      "Loaded Analysis_runs with keys:\n",
      "dict_keys(['N_runs', 'N_channels', 1, 2, 3])\n",
      "\n",
      "Loaded Analysis_runs with keys:\n",
      "dict_keys(['N_runs', 'N_channels', 1, 2, 3])\n",
      "\n",
      "Loaded Analysis_runs with keys:\n",
      "dict_keys(['N_runs', 'N_channels', 1, 2, 3])\n",
      "\n",
      "Loaded Analysis_runs with keys:\n",
      "dict_keys(['N_runs', 'N_channels', 1, 2, 3])\n"
     ]
    }
   ],
   "source": [
    "ANA_RUNS=load_npy(N_runs, N_channels,\"Analysis_\",\"../data/ana/\")"
   ]
  },
  {
   "cell_type": "code",
   "execution_count": 9,
   "metadata": {},
   "outputs": [
    {
     "name": "stdout",
     "output_type": "stream",
     "text": [
      "1\n",
      "[ 793 2854  611 ...  596  621 2618]\n",
      "[-1.60404709e-14 -3.94595585e-13  3.51286313e-13 ... -2.59855629e-13\n",
      " -1.62008756e-13  3.52890360e-13]\n",
      "[15.95943563 16.4021164  79.78835979 ... 14.14285714 76.49029982\n",
      " 13.89241623]\n",
      "SC\n",
      "\n",
      "567\n"
     ]
    }
   ],
   "source": [
    "print(ANA_RUNS[run][ch][\"P_channel\"])\n",
    "print(ANA_RUNS[run][ch][\"Peak_time\"])\n",
    "print(ANA_RUNS[run][ch][\"Ped_mean\"])\n",
    "print(ANA_RUNS[run][ch][\"Peak_amp\"])\n",
    "print(ANA_RUNS[run][ch][\"Label\"])\n",
    "print(ANA_RUNS[run][ch][\"Ped_lim\"])"
   ]
  }
 ],
 "metadata": {
  "kernelspec": {
   "display_name": "Python 3",
   "language": "python",
   "name": "python3"
  },
  "language_info": {
   "codemirror_mode": {
    "name": "ipython",
    "version": 3
   },
   "file_extension": ".py",
   "mimetype": "text/x-python",
   "name": "python",
   "nbconvert_exporter": "python",
   "pygments_lexer": "ipython3",
   "version": "3.10.6"
  },
  "orig_nbformat": 4,
  "vscode": {
   "interpreter": {
    "hash": "916dbcbb3f70747c44a77c7bcd40155683ae19c65e1c03b4aa3499c5328201f1"
   }
  }
 },
 "nbformat": 4,
 "nbformat_minor": 2
}

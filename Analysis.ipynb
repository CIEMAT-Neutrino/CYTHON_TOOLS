{
 "cells": [
  {
   "cell_type": "code",
   "execution_count": 1,
   "metadata": {},
   "outputs": [],
   "source": [
    "from lib.my_functions import load_npy\n",
    "import numpy as np\n",
    "import matplotlib.pyplot as plt"
   ]
  },
  {
   "cell_type": "code",
   "execution_count": 2,
   "metadata": {},
   "outputs": [
    {
     "data": {
      "text/plain": [
       "dict_keys(['N_runs', 'N_channels', 'P_channels', 10, 22, 26])"
      ]
     },
     "execution_count": 2,
     "metadata": {},
     "output_type": "execute_result"
    }
   ],
   "source": [
    "N_runs     =[10,22,26]     \n",
    "N_channels =[0,1,4,6]       \n",
    "Pl         =[-1,-1,-1,-1]   #polarity\n",
    "P_channels ={}\n",
    "for ch,pl in zip(N_channels,Pl): P_channels[ch]=pl\n",
    "\n",
    "L_channels  =[\"SiPM1\",\"SiPM2\",\"PMT\",\"SuperCell\"]\n",
    "RUNS=load_npy(N_runs, N_channels,P_channels)\n",
    "\n",
    "#Customizable\n",
    "PROP={}\n",
    "PROP[\"sampling\"]=4; #ns\n",
    "PROP[\"NBins_Ped\"]=250\n",
    "\n",
    "RUNS.keys()"
   ]
  },
  {
   "cell_type": "code",
   "execution_count": 3,
   "metadata": {},
   "outputs": [
    {
     "data": {
      "text/plain": [
       "dict_keys(['ADC', 'Sampling', 'EventNumber', 'TriggerTimeStamp', 'PCTimeStamp', 'NBins_wvf', 'Raw_file_keys', 'Ped_STD', 'Ped_mean', 'Ped_max', 'Ped_min'])"
      ]
     },
     "execution_count": 3,
     "metadata": {},
     "output_type": "execute_result"
    }
   ],
   "source": [
    "#compute Pedestals:\n",
    "from lib.my_functions import compute_pedestal_variables\n",
    "\n",
    "compute_pedestal_variables(RUNS,PROP[\"NBins_Ped\"])\n",
    "RUNS[10][0].keys()\n",
    "# for run in N_runs:\n",
    "#     for ch in N_channels:\n",
    "#         RUNS[run][ch][\"Ped_STD\"] =np.std (RUNS[run][ch][\"ADC\"][:,:PROP[\"NBins_Ped\"]],axis=1)\n",
    "#         RUNS[run][ch][\"Ped_mean\"]=np.mean(RUNS[run][ch][\"ADC\"][:,:PROP[\"NBins_Ped\"]],axis=1)\n",
    "#         RUNS[run][ch][\"Ped_max\"] =np.max (RUNS[run][ch][\"ADC\"][:,:PROP[\"NBins_Ped\"]],axis=1)\n",
    "#         RUNS[run][ch][\"Ped_min\"] =np.min (RUNS[run][ch][\"ADC\"][:,:PROP[\"NBins_Ped\"]],axis=1)\n"
   ]
  },
  {
   "cell_type": "code",
   "execution_count": 4,
   "metadata": {},
   "outputs": [
    {
     "data": {
      "text/plain": [
       "dict_keys(['ADC', 'Sampling', 'EventNumber', 'TriggerTimeStamp', 'PCTimeStamp', 'NBins_wvf', 'Raw_file_keys', 'Ped_STD', 'Ped_mean', 'Ped_max', 'Ped_min', 'Peak_amp', 'Peak_time'])"
      ]
     },
     "execution_count": 4,
     "metadata": {},
     "output_type": "execute_result"
    }
   ],
   "source": [
    "from lib.my_functions import compute_peak_variables\n",
    "\n",
    "compute_peak_variables(RUNS)\n",
    "RUNS[10][0].keys()"
   ]
  },
  {
   "cell_type": "code",
   "execution_count": 5,
   "metadata": {},
   "outputs": [
    {
     "data": {
      "text/plain": [
       "[]"
      ]
     },
     "execution_count": 5,
     "metadata": {},
     "output_type": "execute_result"
    },
    {
     "data": {
      "image/png": "[encoded data removed]",
      "text/plain": [
       "<Figure size 432x288 with 1 Axes>"
      ]
     },
     "metadata": {
      "needs_background": "light"
     },
     "output_type": "display_data"
    }
   ],
   "source": [
    "for ch in N_channels:\n",
    "    plt.plot(P_channels[ch]*(RUNS[10][ch][\"ADC\"][0]-RUNS[10][ch][\"Ped_mean\"][0]))\n",
    "    plt.vlines(RUNS[10][ch][\"Peak_time\"][0],0,10000)\n",
    "\n",
    "plt.xlim([550,650])\n",
    "plt.semilogy()"
   ]
  },
  {
   "cell_type": "code",
   "execution_count": 11,
   "metadata": {},
   "outputs": [],
   "source": [
    "import copy\n",
    "\n",
    "def save_proccesed_variables(my_runs,out_path=\"data/Analysis_\"):\n",
    "    \"\"\"Does exactly what it says, no RawWvfs here\"\"\"\n",
    "    \n",
    "    #  Remove the unwanted branches in the copy\n",
    "    aux=copy.deepcopy(RUNS)\n",
    "    # print(my_runs[10][0].keys())\n",
    "    # print(aux [10][0].keys())\n",
    "\n",
    "    for run in aux[\"N_runs\"]:\n",
    "        for ch in aux[\"N_channels\"]:\n",
    "            x=0;\n",
    "            for key in aux[run][ch][\"Raw_file_keys\"]:\n",
    "                del aux[run][ch][key]\n",
    "\n",
    "    # Crosscheck\n",
    "    print(RUNS[10][0].keys())\n",
    "    print(aux [10][0].keys())\n",
    "    \n",
    "    # Save the info in aux dict\n",
    "    for run in aux[\"N_runs\"]:\n",
    "        for ch in aux[\"N_channels\"]:\n",
    "            aux_path=out_path+\"run\"+str(run).zfill(2)+\"_ch\"+str(ch)+\".npy\"\n",
    "            np.save(aux_path,aux[run][ch])\n",
    "            print(\"Saved data in:\" , aux_path)\n"
   ]
  },
  {
   "cell_type": "code",
   "execution_count": 13,
   "metadata": {},
   "outputs": [
    {
     "name": "stdout",
     "output_type": "stream",
     "text": [
      "dict_keys(['ADC', 'Sampling', 'EventNumber', 'TriggerTimeStamp', 'PCTimeStamp', 'NBins_wvf', 'Raw_file_keys', 'Ped_STD', 'Ped_mean', 'Ped_max', 'Ped_min', 'Peak_amp', 'Peak_time'])\n",
      "dict_keys(['NBins_wvf', 'Raw_file_keys', 'Ped_STD', 'Ped_mean', 'Ped_max', 'Ped_min', 'Peak_amp', 'Peak_time'])\n",
      "Saved data in: data/Analysis_run10_ch0.npy\n",
      "Saved data in: data/Analysis_run10_ch1.npy\n",
      "Saved data in: data/Analysis_run10_ch4.npy\n",
      "Saved data in: data/Analysis_run10_ch6.npy\n",
      "Saved data in: data/Analysis_run22_ch0.npy\n",
      "Saved data in: data/Analysis_run22_ch1.npy\n",
      "Saved data in: data/Analysis_run22_ch4.npy\n",
      "Saved data in: data/Analysis_run22_ch6.npy\n",
      "Saved data in: data/Analysis_run26_ch0.npy\n",
      "Saved data in: data/Analysis_run26_ch1.npy\n",
      "Saved data in: data/Analysis_run26_ch4.npy\n",
      "Saved data in: data/Analysis_run26_ch6.npy\n"
     ]
    }
   ],
   "source": [
    "save_proccesed_variables(RUNS)"
   ]
  }
 ],
 "metadata": {
  "kernelspec": {
   "display_name": "Python 3",
   "language": "python",
   "name": "python3"
  },
  "language_info": {
   "codemirror_mode": {
    "name": "ipython",
    "version": 3
   },
   "file_extension": ".py",
   "mimetype": "text/x-python",
   "name": "python",
   "nbconvert_exporter": "python",
   "pygments_lexer": "ipython3",
   "version": "3.10.6"
  },
  "orig_nbformat": 4,
  "vscode": {
   "interpreter": {
    "hash": "916dbcbb3f70747c44a77c7bcd40155683ae19c65e1c03b4aa3499c5328201f1"
   }
  }
 },
 "nbformat": 4,
 "nbformat_minor": 2
}

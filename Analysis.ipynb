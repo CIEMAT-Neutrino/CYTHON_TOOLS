{
 "cells": [
  {
   "cell_type": "code",
   "execution_count": 2,
   "metadata": {},
   "outputs": [],
   "source": [
    "from lib.my_functions import load_npy"
   ]
  },
  {
   "cell_type": "code",
   "execution_count": 8,
   "metadata": {},
   "outputs": [
    {
     "ename": "FileNotFoundError",
     "evalue": "[Errno 2] No such file or directory: '../data/run10_ch0.npy'",
     "output_type": "error",
     "traceback": [
      "\u001b[0;31m---------------------------------------------------------------------------\u001b[0m",
      "\u001b[0;31mFileNotFoundError\u001b[0m                         Traceback (most recent call last)",
      "Cell \u001b[0;32mIn [8], line 1\u001b[0m\n\u001b[0;32m----> 1\u001b[0m RUNS\u001b[39m=\u001b[39mload_npy([\u001b[39m\"\u001b[39;49m\u001b[39m10\u001b[39;49m\u001b[39m\"\u001b[39;49m],[\u001b[39m0\u001b[39;49m,\u001b[39m1\u001b[39;49m,\u001b[39m4\u001b[39;49m,\u001b[39m6\u001b[39;49m])\n\u001b[1;32m      2\u001b[0m \u001b[39m# print(RUNS[\"10\"][0].keys())\u001b[39;00m\n\u001b[1;32m      3\u001b[0m \u001b[39mprint\u001b[39m(RUNS[\u001b[39m\"\u001b[39m\u001b[39m10\u001b[39m\u001b[39m\"\u001b[39m][\u001b[39m0\u001b[39m][\u001b[39m\"\u001b[39m\u001b[39mSampling\u001b[39m\u001b[39m\"\u001b[39m])\n",
      "File \u001b[0;32m~/Code/CYTHON_TOOLS/lib/my_functions.py:47\u001b[0m, in \u001b[0;36mload_npy\u001b[0;34m(RUNS, CH)\u001b[0m\n\u001b[1;32m     45\u001b[0m     channels\u001b[39m=\u001b[39m\u001b[39mdict\u001b[39m();\n\u001b[1;32m     46\u001b[0m     \u001b[39mfor\u001b[39;00m ch \u001b[39min\u001b[39;00m CH:\n\u001b[0;32m---> 47\u001b[0m         channels[ch]\u001b[39m=\u001b[39mnp\u001b[39m.\u001b[39;49mload(\u001b[39m\"\u001b[39;49m\u001b[39m../data/run\u001b[39;49m\u001b[39m\"\u001b[39;49m\u001b[39m+\u001b[39;49mrun\u001b[39m+\u001b[39;49m\u001b[39m\"\u001b[39;49m\u001b[39m_ch\u001b[39;49m\u001b[39m\"\u001b[39;49m\u001b[39m+\u001b[39;49m\u001b[39mstr\u001b[39;49m(ch)\u001b[39m+\u001b[39;49m\u001b[39m\"\u001b[39;49m\u001b[39m.npy\u001b[39;49m\u001b[39m\"\u001b[39;49m,allow_pickle\u001b[39m=\u001b[39;49m\u001b[39mTrue\u001b[39;49;00m)\u001b[39m.\u001b[39mitem()\n\u001b[1;32m     48\u001b[0m     runs[run]\u001b[39m=\u001b[39mchannels;\n\u001b[1;32m     49\u001b[0m \u001b[39mreturn\u001b[39;00m runs\n",
      "File \u001b[0;32m~/.local/lib/python3.10/site-packages/numpy/lib/npyio.py:390\u001b[0m, in \u001b[0;36mload\u001b[0;34m(file, mmap_mode, allow_pickle, fix_imports, encoding)\u001b[0m\n\u001b[1;32m    388\u001b[0m     own_fid \u001b[39m=\u001b[39m \u001b[39mFalse\u001b[39;00m\n\u001b[1;32m    389\u001b[0m \u001b[39melse\u001b[39;00m:\n\u001b[0;32m--> 390\u001b[0m     fid \u001b[39m=\u001b[39m stack\u001b[39m.\u001b[39menter_context(\u001b[39mopen\u001b[39;49m(os_fspath(file), \u001b[39m\"\u001b[39;49m\u001b[39mrb\u001b[39;49m\u001b[39m\"\u001b[39;49m))\n\u001b[1;32m    391\u001b[0m     own_fid \u001b[39m=\u001b[39m \u001b[39mTrue\u001b[39;00m\n\u001b[1;32m    393\u001b[0m \u001b[39m# Code to distinguish from NumPy binary files and pickles.\u001b[39;00m\n",
      "\u001b[0;31mFileNotFoundError\u001b[0m: [Errno 2] No such file or directory: '../data/run10_ch0.npy'"
     ]
    }
   ],
   "source": [
    "RUNS=load_npy([\"10\"],[0,1,4,6])\n",
    "# print(RUNS[\"10\"][0].keys())\n",
    "print(RUNS[\"10\"][0][\"Sampling\"])"
   ]
  },
  {
   "cell_type": "code",
   "execution_count": null,
   "metadata": {},
   "outputs": [],
   "source": []
  }
 ],
 "metadata": {
  "kernelspec": {
   "display_name": "Python 3",
   "language": "python",
   "name": "python3"
  },
  "language_info": {
   "codemirror_mode": {
    "name": "ipython",
    "version": 3
   },
   "file_extension": ".py",
   "mimetype": "text/x-python",
   "name": "python",
   "nbconvert_exporter": "python",
   "pygments_lexer": "ipython3",
   "version": "3.10.6"
  },
  "orig_nbformat": 4,
  "vscode": {
   "interpreter": {
    "hash": "916dbcbb3f70747c44a77c7bcd40155683ae19c65e1c03b4aa3499c5328201f1"
   }
  }
 },
 "nbformat": 4,
 "nbformat_minor": 2
}
